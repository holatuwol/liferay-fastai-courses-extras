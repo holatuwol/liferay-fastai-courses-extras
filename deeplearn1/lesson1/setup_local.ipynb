{
 "cells": [
  {
   "cell_type": "markdown",
   "metadata": {
    "deletable": true,
    "editable": true
   },
   "source": [
    "## notes"
   ]
  },
  {
   "cell_type": "markdown",
   "metadata": {
    "deletable": true,
    "editable": true
   },
   "source": [
    "## jupyter"
   ]
  },
  {
   "cell_type": "markdown",
   "metadata": {
    "deletable": true,
    "editable": true
   },
   "source": [
    "Create an environment named `deeplearn` and restart Jupyter after switching to this conda environment.\n",
    "\n",
    "```\n",
    "conda create --name deeplearn jupyter nb_conda python=3\n",
    "```"
   ]
  },
  {
   "cell_type": "markdown",
   "metadata": {
    "deletable": true,
    "editable": true
   },
   "source": [
    "## conda"
   ]
  },
  {
   "cell_type": "code",
   "execution_count": null,
   "metadata": {
    "collapsed": false,
    "deletable": true,
    "editable": true
   },
   "outputs": [],
   "source": [
    "!conda install -y bcolz h5py matplotlib numpy pandas pillow scikit-learn theano"
   ]
  },
  {
   "cell_type": "markdown",
   "metadata": {
    "deletable": true,
    "editable": true
   },
   "source": [
    "## pip: keras"
   ]
  },
  {
   "cell_type": "code",
   "execution_count": null,
   "metadata": {
    "collapsed": false,
    "deletable": true,
    "editable": true
   },
   "outputs": [],
   "source": [
    "!pip install keras==1.2.2"
   ]
  },
  {
   "cell_type": "code",
   "execution_count": null,
   "metadata": {
    "collapsed": true,
    "deletable": true,
    "editable": true
   },
   "outputs": [],
   "source": [
    "!mkdir -p ~/.keras"
   ]
  },
  {
   "cell_type": "code",
   "execution_count": null,
   "metadata": {
    "collapsed": false,
    "deletable": true,
    "editable": true
   },
   "outputs": [],
   "source": [
    "%%writefile ~/.keras/keras.json\n",
    "{\n",
    "    \"epsilon\": 1e-07,\n",
    "    \"floatx\": \"float32\",\n",
    "    \"backend\": \"theano\",\n",
    "    \"image_dim_ordering\": \"th\",\n",
    "    \"image_data_format\": \"channels_last\"\n",
    "}"
   ]
  },
  {
   "cell_type": "markdown",
   "metadata": {
    "deletable": true,
    "editable": true
   },
   "source": [
    "## python3: cPickle"
   ]
  },
  {
   "cell_type": "markdown",
   "metadata": {
    "deletable": true,
    "editable": true
   },
   "source": [
    "In `utils.py`, line 3 says the following:\n",
    "\n",
    "```\n",
    "import cPickle as pickle\n",
    "```\n",
    "\n",
    "For Python 3 compatibility, update it to say:\n",
    "\n",
    "```\n",
    "try:\n",
    "    import cPickle as pickle\n",
    "except ImportError:\n",
    "    import pickle\n",
    "```"
   ]
  },
  {
   "cell_type": "markdown",
   "metadata": {
    "deletable": true,
    "editable": true
   },
   "source": [
    "## python3: reload"
   ]
  },
  {
   "cell_type": "markdown",
   "metadata": {
    "deletable": true,
    "editable": true
   },
   "source": [
    "In `lesson1.ipynb`, add the following lines:\n",
    "\n",
    "```\n",
    "try:\n",
    "    from imp import reload\n",
    "except ImportError:\n",
    "    reload\n",
    "```"
   ]
  },
  {
   "cell_type": "markdown",
   "metadata": {
    "deletable": true,
    "editable": true
   },
   "source": [
    "## file download"
   ]
  },
  {
   "cell_type": "markdown",
   "metadata": {
    "deletable": true,
    "editable": true
   },
   "source": [
    "The notebook attempts to download `vgg16.h5` from here, which from the listing indicates that it is over 500 MB.\n",
    "\n",
    "* http://www.platform.ai/models/\n",
    "\n",
    "Since this is over the internet, this may take awhile to download. To speed up the process, it has been made uploaded to an internal server, which will be much faster to download if you're on a wired connection.\n",
    "\n",
    "* http://cloud-10-50-0-165/www.platform.ai/models/\n",
    "\n",
    "We'll download to the local cache with the following cell."
   ]
  },
  {
   "cell_type": "code",
   "execution_count": null,
   "metadata": {
    "collapsed": false
   },
   "outputs": [],
   "source": [
    "!mkdir -p ~/.keras/models\n",
    "!wget http://cloud-10-50-0-165/www.platform.ai/models/vgg16.h5 -O ~/.keras/models/vgg16.h5\n",
    "!wget http://cloud-10-50-0-165/www.platform.ai/models/imagenet_class_index.json -O ~/.keras/models/imagenet_class_index.jso"
   ]
  }
 ],
 "metadata": {
  "anaconda-cloud": {},
  "kernelspec": {
   "display_name": "Python [conda env:deeplearn]",
   "language": "python",
   "name": "conda-env-deeplearn-py"
  },
  "language_info": {
   "codemirror_mode": {
    "name": "ipython",
    "version": 3
   },
   "file_extension": ".py",
   "mimetype": "text/x-python",
   "name": "python",
   "nbconvert_exporter": "python",
   "pygments_lexer": "ipython3",
   "version": "3.5.3"
  }
 },
 "nbformat": 4,
 "nbformat_minor": 2
}
