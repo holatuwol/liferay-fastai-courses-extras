{
 "cells": [
  {
   "cell_type": "markdown",
   "metadata": {},
   "source": [
    "## notes"
   ]
  },
  {
   "cell_type": "markdown",
   "metadata": {},
   "source": [
    "## jupyter"
   ]
  },
  {
   "cell_type": "markdown",
   "metadata": {},
   "source": [
    "Create an environment named `deeplearn` and restart Jupyter after switching to this conda environment.\n",
    "\n",
    "```\n",
    "conda create --name deeplearn jupyter nb_conda python=3\n",
    "```"
   ]
  },
  {
   "cell_type": "markdown",
   "metadata": {},
   "source": [
    "## conda"
   ]
  },
  {
   "cell_type": "code",
   "execution_count": 1,
   "metadata": {
    "collapsed": false
   },
   "outputs": [
    {
     "name": "stdout",
     "output_type": "stream",
     "text": [
      "Fetching package metadata .........\n",
      "Solving package specifications: .\n",
      "\n",
      "Package plan for installation in environment /home/minhchau/miniconda3/envs/deeplearn:\n",
      "\n",
      "The following NEW packages will be INSTALLED:\n",
      "\n",
      "    h5py: 2.7.0-np112py35_0\n",
      "    hdf5: 1.8.17-1         \n",
      "\n",
      "hdf5-1.8.17-1. 100% |################################| Time: 0:00:00   2.95 MB/s\n",
      "h5py-2.7.0-np1 100% |################################| Time: 0:00:01   2.28 MB/s\n"
     ]
    }
   ],
   "source": [
    "!conda install -y bcolz h5py matplotlib numpy pandas pillow scikit-learn theano"
   ]
  },
  {
   "cell_type": "markdown",
   "metadata": {},
   "source": [
    "## pip: keras"
   ]
  },
  {
   "cell_type": "code",
   "execution_count": null,
   "metadata": {
    "collapsed": false
   },
   "outputs": [],
   "source": [
    "!pip install keras==1.2.2"
   ]
  },
  {
   "cell_type": "code",
   "execution_count": 2,
   "metadata": {
    "collapsed": true
   },
   "outputs": [],
   "source": [
    "!mkdir -p ~/.keras"
   ]
  },
  {
   "cell_type": "code",
   "execution_count": 4,
   "metadata": {
    "collapsed": false
   },
   "outputs": [
    {
     "name": "stdout",
     "output_type": "stream",
     "text": [
      "Overwriting /home/minhchau/.keras/keras.json\n"
     ]
    }
   ],
   "source": [
    "%%writefile ~/.keras/keras.json\n",
    "{\n",
    "    \"epsilon\": 1e-07,\n",
    "    \"floatx\": \"float32\",\n",
    "    \"backend\": \"theano\",\n",
    "    \"image_dim_ordering\": \"th\",\n",
    "    \"image_data_format\": \"channels_last\"\n",
    "}"
   ]
  },
  {
   "cell_type": "markdown",
   "metadata": {},
   "source": [
    "## python3: cPickle"
   ]
  },
  {
   "cell_type": "markdown",
   "metadata": {},
   "source": [
    "In `utils.py`, line 3 says the following:\n",
    "\n",
    "```\n",
    "import cPickle as pickle\n",
    "```\n",
    "\n",
    "For Python 3 compatibility, update it to say:\n",
    "\n",
    "```\n",
    "try:\n",
    "    import cPickle as pickle\n",
    "except ImportError:\n",
    "    import pickle\n",
    "```"
   ]
  },
  {
   "cell_type": "markdown",
   "metadata": {},
   "source": [
    "## python3: reload"
   ]
  },
  {
   "cell_type": "markdown",
   "metadata": {},
   "source": [
    "In `lesson1.ipynb`, add the following lines:\n",
    "\n",
    "```\n",
    "try:\n",
    "    from imp import reload\n",
    "except ImportError:\n",
    "    reload\n",
    "```"
   ]
  },
  {
   "cell_type": "markdown",
   "metadata": {},
   "source": [
    "## file download"
   ]
  },
  {
   "cell_type": "markdown",
   "metadata": {},
   "source": [
    "The notebook attempts to download `vgg16.h5` from here, which from the listing indicates that it is over 500 MB.\n",
    "\n",
    "* http://www.platform.ai/models/\n",
    "\n",
    "Since this is over the internet, this may take awhile to download. To speed up the process, it has been made uploaded to an internal server, which will be much faster to download if you're on a wired connection.\n",
    "\n",
    "* http://cloud-10-50-0-165/www.platform.ai/models/\n",
    "\n",
    "To use it, update `vgg16.py` so that the following section:\n",
    "\n",
    "```\n",
    "self.FILE_PATH = 'http://www.platform.ai/models/'\n",
    "```\n",
    "\n",
    "Instead says the following:\n",
    "\n",
    "```\n",
    "self.FILE_PATH = 'http://cloud-10-50-0-165/www.platform.ai/models/'\n",
    "```"
   ]
  }
 ],
 "metadata": {
  "kernelspec": {
   "display_name": "Python [conda env:deeplearn]",
   "language": "python",
   "name": "conda-env-deeplearn-py"
  },
  "language_info": {
   "codemirror_mode": {
    "name": "ipython",
    "version": 3
   },
   "file_extension": ".py",
   "mimetype": "text/x-python",
   "name": "python",
   "nbconvert_exporter": "python",
   "pygments_lexer": "ipython3",
   "version": "3.5.3"
  }
 },
 "nbformat": 4,
 "nbformat_minor": 2
}
