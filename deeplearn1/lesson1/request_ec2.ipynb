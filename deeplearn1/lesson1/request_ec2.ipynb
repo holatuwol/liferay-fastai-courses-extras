{
 "cells": [
  {
   "cell_type": "markdown",
   "metadata": {},
   "source": [
    "# Amazon Installations: Elastic Compute Cloud"
   ]
  },
  {
   "cell_type": "markdown",
   "metadata": {},
   "source": [
    "## Usage Notes"
   ]
  },
  {
   "cell_type": "markdown",
   "metadata": {},
   "source": [
    "Amazon Elastic Compute Cloud (EC2) is Amazon's service for requesting virtual machines that are created in Amazon's cloud.\n",
    "\n",
    "This notebook will go over the different aspects of the virtual machine that you should take into consideration when you want to request a cluster of virtual machines, and the same considerations apply when requesting a single instance."
   ]
  },
  {
   "cell_type": "markdown",
   "metadata": {},
   "source": [
    "## Notebook Imports"
   ]
  },
  {
   "cell_type": "code",
   "execution_count": null,
   "metadata": {},
   "outputs": [],
   "source": [
    "%matplotlib inline"
   ]
  },
  {
   "cell_type": "code",
   "execution_count": null,
   "metadata": {},
   "outputs": [],
   "source": [
    "from __future__ import division, print_function\n",
    "from aws_base import *\n",
    "from aws_group import *\n",
    "from aws_iam import *\n",
    "from aws_request import *\n",
    "from aws_spot import *\n",
    "from aws_util import *\n",
    "from aws_volumes import *\n",
    "from IPython.display import display"
   ]
  },
  {
   "cell_type": "markdown",
   "metadata": {},
   "source": [
    "## Identify the AMI"
   ]
  },
  {
   "cell_type": "markdown",
   "metadata": {},
   "source": [
    "If you already have an AMI you want to use, set it here. The only requirement is that the AMI uses Ubuntu (otherwise, future attempts to install software won't work). If you do not set one, one will automatically be chosen for you later in the notebook.\n",
    "\n",
    "https://console.aws.amazon.com/ec2/v2/home#Images"
   ]
  },
  {
   "cell_type": "code",
   "execution_count": null,
   "metadata": {},
   "outputs": [],
   "source": [
    "image_id = None"
   ]
  },
  {
   "cell_type": "markdown",
   "metadata": {},
   "source": [
    "## Check Spot Instance Pricing"
   ]
  },
  {
   "cell_type": "code",
   "execution_count": null,
   "metadata": {},
   "outputs": [],
   "source": [
    "def filter_instance_types(*args):\n",
    "    potential_types = [\n",
    "        '%s%d.%s' % (family, x, size)\n",
    "            for families, size in args\n",
    "            for family in families\n",
    "            for x in range(1,10)\n",
    "    ]\n",
    "\n",
    "    for extra_type in 'abcdefghijklmnopqrstuvwxyz':\n",
    "        potential_types += [\n",
    "            '%s%d%s.%s' % (family, x, extra_type, size)\n",
    "                for families, size in args\n",
    "                for family in families\n",
    "                for x in range(1,10)\n",
    "        ]\n",
    "\n",
    "    candidate_types = set(potential_types)\n",
    "\n",
    "    on_demand_prices = get_on_demand_prices()\n",
    "\n",
    "    return [\n",
    "        candidate_type for candidate_type in candidate_types\n",
    "            if candidate_type in on_demand_prices or candidate_type.find('x1e.') == 0\n",
    "    ]"
   ]
  },
  {
   "cell_type": "markdown",
   "metadata": {},
   "source": [
    "### Consider Instance Types"
   ]
  },
  {
   "cell_type": "markdown",
   "metadata": {},
   "source": [
    "It's important to consider multiple instance types for our workload, because it's not always the case that the smallest instance type is the cheapest instance type. It is not uncommon for lower tier EC2 instances prices to spike due to lazy programmers who cause the price to inflate for the lower tier EC2 instance type used by their programs. A good reference for the instance types is put together by the community of AWS users.\n",
    "\n",
    "* http://www.ec2instances.info/\n",
    "\n",
    "For general purpose usage, many applications are CPU-bound while still needing a decent amount of memory, so you will want to consider the general-purpose ``m`` family instances for those tasks. However, for a lot of Liferay related purposes, you can actually lean towards something more specific.\n",
    "\n",
    "Below are a few examples of how you might decide on an instance type.\n",
    "\n",
    "* A standard Liferay instance that you use for cluster testing is CPU-bound while needing a moderate amount of memory, and so something from the `c` family instances is appropriate.\n",
    "* Liferay builds require a substantial amount of memory, but since they're running in the background, you can trade away some CPU capacity. For that reason, something from the ``r`` family is appropriate.\n",
    "* Liferay upgrades require about the same amount of CPU power as a standard Liferay instance, but they need a lot more memory to succeed. When taking pricing into consideration, you would consider a larger variant in the `r` and `i` families.\n",
    "* For purposes of deep learning, your only options are in the `p` family."
   ]
  },
  {
   "cell_type": "code",
   "execution_count": null,
   "metadata": {},
   "outputs": [],
   "source": [
    "instance_types = filter_instance_types(\n",
    "#    ('c', 'large'), ('m', 'medium'),     # 6.2 cluster\n",
    "#    ('c', 'xlarge'), ('m', 'large'),     # 7.0 cluster\n",
    "#    ('ri', 'large'),                     # git bisect\n",
    "#    ('m', 'xlarge'), ('ri', 'large'),    # normal upgrade\n",
    "    ('m', '2xlarge'), ('ri', 'xlarge'),  # large upgrade\n",
    "#    ('m', '4xlarge'), ('ri', '2xlarge'), # data analysis\n",
    "#    ('x', 'xlarge')                      # heap dump analysis\n",
    "#    ('p', 'xlarge')                      # deep learning\n",
    ")\n",
    "\n",
    "instance_types"
   ]
  },
  {
   "cell_type": "markdown",
   "metadata": {},
   "source": [
    "### Plot Price History"
   ]
  },
  {
   "cell_type": "markdown",
   "metadata": {},
   "source": [
    "When considering the instance type, one good metric is to look at the price of those instances types across several days. By default, the AWS GUI will show you the price history for 1 day and it allows you to look at the history for 7 days (one week) or 30 days (one month)."
   ]
  },
  {
   "cell_type": "code",
   "execution_count": null,
   "metadata": {},
   "outputs": [],
   "source": [
    "day_count = 30"
   ]
  },
  {
   "cell_type": "markdown",
   "metadata": {},
   "source": [
    "Let's plot the data so that we can compare the different instance types and then decide which instance type makes sense given the price history."
   ]
  },
  {
   "cell_type": "code",
   "execution_count": null,
   "metadata": {},
   "outputs": [],
   "source": [
    "target_price, on_demand_prices, instances_price_history = plot_price_history(instance_types, day_count)"
   ]
  },
  {
   "cell_type": "markdown",
   "metadata": {},
   "source": [
    "## Confirm Pricing Choices"
   ]
  },
  {
   "cell_type": "markdown",
   "metadata": {},
   "source": [
    "### Select Instance Type"
   ]
  },
  {
   "cell_type": "markdown",
   "metadata": {
    "collapsed": true
   },
   "source": [
    "Now that we've looked at the price history, we can choose our desired instance type."
   ]
  },
  {
   "cell_type": "code",
   "execution_count": null,
   "metadata": {},
   "outputs": [],
   "source": [
    "desired_instance_type = 'r5d.xlarge'"
   ]
  },
  {
   "cell_type": "markdown",
   "metadata": {},
   "source": [
    "We'll make sure that we didn't make a typo."
   ]
  },
  {
   "cell_type": "code",
   "execution_count": null,
   "metadata": {},
   "outputs": [],
   "source": [
    "assert desired_instance_type in instance_types"
   ]
  },
  {
   "cell_type": "markdown",
   "metadata": {},
   "source": [
    "If you are setting it up as a one-time test, then you should create a spot instance request (set the following variable to `False`) in order to limit the cost of running the instance.\n",
    "\n",
    "If you wish to reuse this machine again in the future or if this is a time-consuming test where you do not want to risk early termination of the EC2 instance, you will need to be able to start and stop the instance. If that's the case, you should create an on-demand instance (set the following variable to `True`)."
   ]
  },
  {
   "cell_type": "code",
   "execution_count": null,
   "metadata": {},
   "outputs": [],
   "source": [
    "is_on_demand = False"
   ]
  },
  {
   "cell_type": "markdown",
   "metadata": {},
   "source": [
    "### Confirm Instance Type"
   ]
  },
  {
   "cell_type": "markdown",
   "metadata": {},
   "source": [
    "Note that `t2` instances cannot be requested as spot instances, so we will force the value to `True` if you chose that instance type."
   ]
  },
  {
   "cell_type": "code",
   "execution_count": null,
   "metadata": {},
   "outputs": [],
   "source": [
    "if not is_on_demand:\n",
    "    is_on_demand = not is_spot_instance_supported(desired_instance_type)\n",
    "\n",
    "is_on_demand"
   ]
  },
  {
   "cell_type": "markdown",
   "metadata": {},
   "source": [
    "Set your operating system. If you haven't chosen an `image_id`, the code is able to figure out the proper `image_id` for Amazon Linux or Ubuntu, so specify one of the two."
   ]
  },
  {
   "cell_type": "code",
   "execution_count": null,
   "metadata": {},
   "outputs": [],
   "source": [
    "#linux_type = 'amazon'\n",
    "linux_type = 'ubuntu'\n",
    "#linux_type = 'windows'"
   ]
  },
  {
   "cell_type": "markdown",
   "metadata": {},
   "source": [
    "Next, the code will use this `linux_type` to figure out the user to use to connect to the virtual machine instance when running various commands."
   ]
  },
  {
   "cell_type": "code",
   "execution_count": null,
   "metadata": {},
   "outputs": [],
   "source": [
    "if linux_type == 'ubuntu':\n",
    "    user_name = 'ubuntu'\n",
    "else:\n",
    "    user_name = 'ec2-user'"
   ]
  },
  {
   "cell_type": "markdown",
   "metadata": {},
   "source": [
    "If you have not set an AMI, we will choose a default one based on your instance type. This choice will be made based on the virtualization options available for your instance type."
   ]
  },
  {
   "cell_type": "code",
   "execution_count": null,
   "metadata": {},
   "outputs": [],
   "source": [
    "if image_id is None:\n",
    "    virtualization_type = get_virtualization_type(desired_instance_type)\n",
    "    image_id = get_default_image_id(virtualization_type, linux_type)\n",
    "\n",
    "image_id"
   ]
  },
  {
   "cell_type": "markdown",
   "metadata": {},
   "source": [
    "The following will confirm that your instance type can be created with the virtualization type required by your AMI."
   ]
  },
  {
   "cell_type": "code",
   "execution_count": null,
   "metadata": {},
   "outputs": [],
   "source": [
    "ami_json = aws(\n",
    "    'ec2', 'describe-images', '--image-id', image_id,\n",
    "    '--region', region)\n",
    "\n",
    "image = ami_json['Images'][0]\n",
    "image_id = image['ImageId']\n",
    "\n",
    "image_virtualization_type = image['VirtualizationType']\n",
    "instance_virtualization_type = get_virtualization_type(\n",
    "    desired_instance_type, image_virtualization_type)\n",
    "\n",
    "assert image_virtualization_type == instance_virtualization_type"
   ]
  },
  {
   "cell_type": "markdown",
   "metadata": {},
   "source": [
    "### Identify Availability Zone"
   ]
  },
  {
   "cell_type": "markdown",
   "metadata": {},
   "source": [
    "If you are fixed to an availability zone due to an Amazon Elastic Block Store (EBS) volume, please set the availability zone containing this volume below."
   ]
  },
  {
   "cell_type": "code",
   "execution_count": null,
   "metadata": {},
   "outputs": [],
   "source": [
    "desired_zone_name = None"
   ]
  },
  {
   "cell_type": "markdown",
   "metadata": {},
   "source": [
    "If you do not have an availability zone, we will automatically select an availability zone based on the instance type that you selected."
   ]
  },
  {
   "cell_type": "code",
   "execution_count": null,
   "metadata": {},
   "outputs": [],
   "source": [
    "if desired_zone_name is None:\n",
    "    instance_price_history = None\n",
    "\n",
    "    for candidate_type, candidate_price_history in instances_price_history:\n",
    "        if candidate_type == desired_instance_type:\n",
    "            instance_price_history = candidate_price_history\n",
    "            break\n",
    "\n",
    "    df, desired_zone_name = choose_availability_zone(\n",
    "        desired_instance_type, instance_price_history, target_price)\n",
    "\n",
    "    display(df)\n",
    "\n",
    "desired_zone_name"
   ]
  },
  {
   "cell_type": "markdown",
   "metadata": {},
   "source": [
    "### Confirm Bid Price"
   ]
  },
  {
   "cell_type": "markdown",
   "metadata": {},
   "source": [
    "From our desired instance type, we will identify what our code has chosen for the bid price (essentially, it will always be the on-demand price). Note that the code below will throw an error if you made a typo in the name of your desired instance type."
   ]
  },
  {
   "cell_type": "code",
   "execution_count": null,
   "metadata": {},
   "outputs": [],
   "source": [
    "bid_price = on_demand_prices[desired_instance_type]\n",
    "bid_price"
   ]
  },
  {
   "cell_type": "markdown",
   "metadata": {},
   "source": [
    "## Create a Placement Group"
   ]
  },
  {
   "cell_type": "markdown",
   "metadata": {},
   "source": [
    "In order to ensure we have good networking in our cluster, we'll need to create a placement group.\n",
    "\n",
    "* http://docs.aws.amazon.com/AWSEC2/latest/UserGuide/placement-groups.html\n",
    "\n",
    "For convenience, we'll need to specify the name we'll use. This name should be unique per region."
   ]
  },
  {
   "cell_type": "code",
   "execution_count": null,
   "metadata": {},
   "outputs": [],
   "source": [
    "placement_group_name = None"
   ]
  },
  {
   "cell_type": "markdown",
   "metadata": {},
   "source": [
    "If the placement group doesn't exist, we'll create it."
   ]
  },
  {
   "cell_type": "code",
   "execution_count": null,
   "metadata": {},
   "outputs": [],
   "source": [
    "placement_group = get_placement_group(desired_instance_type, placement_group_name)\n",
    "\n",
    "placement_group"
   ]
  },
  {
   "cell_type": "markdown",
   "metadata": {},
   "source": [
    "## Size the Cluster"
   ]
  },
  {
   "cell_type": "markdown",
   "metadata": {},
   "source": [
    "### Specify Cluster Size"
   ]
  },
  {
   "cell_type": "markdown",
   "metadata": {},
   "source": [
    "Now that you've identified what kind of node you want, the next step is to identify how many you want. A single spot request can generate more than one node, and you're probably using this notebook to understand how to configure a cluster that has more than one node."
   ]
  },
  {
   "cell_type": "code",
   "execution_count": null,
   "metadata": {},
   "outputs": [],
   "source": [
    "cluster_size = 1"
   ]
  },
  {
   "cell_type": "markdown",
   "metadata": {},
   "source": [
    "### Specify Volume Size"
   ]
  },
  {
   "cell_type": "markdown",
   "metadata": {},
   "source": [
    "Cost of storage increases linearly with the number of nodes, so you may want to limit your volume size. However, chances are you have a large number of nodes because the amount of data you need to process is larger than what can fit on a standard node.\n",
    "\n",
    "To avoid having things crash due to lacking disk space, increase this to whatever you need for your workload. Note that if you are using a `c3` or `m3` instance and you do not need the data to persist across server restarts, local storage on the machine may be able to offset some of your needs."
   ]
  },
  {
   "cell_type": "code",
   "execution_count": null,
   "metadata": {},
   "outputs": [],
   "source": [
    "volume_size = 20"
   ]
  },
  {
   "cell_type": "markdown",
   "metadata": {},
   "source": [
    "## Confirm the Request"
   ]
  },
  {
   "cell_type": "markdown",
   "metadata": {},
   "source": [
    "We now have all the details we need in order to issue our spot request."
   ]
  },
  {
   "cell_type": "code",
   "execution_count": null,
   "metadata": {},
   "outputs": [],
   "source": [
    "request_specification = {\n",
    "    'ImageId': image_id,\n",
    "    'KeyName': private_key_name,\n",
    "    'SecurityGroups': security_group_names,\n",
    "    'InstanceType': desired_instance_type,\n",
    "    'Placement': {\n",
    "        'AvailabilityZone': desired_zone_name\n",
    "    },\n",
    "    'BlockDeviceMappings': get_block_devices(image_id, desired_instance_type, volume_size)\n",
    "}\n",
    "\n",
    "if instance_profile_arn is not None:\n",
    "    request_specification['IamInstanceProfile'] = {\n",
    "        'Arn': instance_profile_arn\n",
    "    }\n",
    "\n",
    "if placement_group is not None:\n",
    "    request_specification['Placement']['GroupName'] = placement_group_name\n",
    "\n",
    "if is_on_demand:\n",
    "    request_specification['DisableApiTermination'] = True\n",
    "    request_specification['InstanceInitiatedShutdownBehavior'] = 'stop'"
   ]
  },
  {
   "cell_type": "markdown",
   "metadata": {},
   "source": [
    "## Issue the Request"
   ]
  },
  {
   "cell_type": "markdown",
   "metadata": {},
   "source": [
    "We'll make a request for our application, and to distinguish it from other requests that are cached, we'll name it `app`."
   ]
  },
  {
   "cell_type": "code",
   "execution_count": null,
   "metadata": {},
   "outputs": [],
   "source": [
    "if is_on_demand:\n",
    "    app_request = OnDemandInstanceRequest('app')\n",
    "else:\n",
    "    app_request = SpotInstanceRequest('app')\n",
    "\n",
    "app_request.request(bid_price, cluster_size, request_specification)"
   ]
  },
  {
   "cell_type": "markdown",
   "metadata": {},
   "source": [
    "## Confirm Fulfillment"
   ]
  },
  {
   "cell_type": "markdown",
   "metadata": {},
   "source": [
    "Here, we make sure that the request has been fulfilled and that the instances are accessible by installing `awscli` to all machines."
   ]
  },
  {
   "cell_type": "code",
   "execution_count": null,
   "metadata": {},
   "outputs": [],
   "source": [
    "app_instances = app_request.get_fulfilled()\n",
    "app_host_names = [instance['PublicDnsName'] for instance in app_instances]\n",
    "\n",
    "install_awscli(user_name, app_host_names)\n",
    "extra_storage(user_name, app_host_names)"
   ]
  },
  {
   "cell_type": "markdown",
   "metadata": {},
   "source": [
    "Next, install Docker on the virtual machine, because a lot of use cases require Docker anyway."
   ]
  },
  {
   "cell_type": "code",
   "execution_count": null,
   "metadata": {},
   "outputs": [],
   "source": [
    "%%writefile scripts/install_docker.sh\n",
    "#!/bin/bash\n",
    "\n",
    "if [ \"\" != \"$(lsblk | grep -F '/mnt')\" ]; then\n",
    "    if [ -d /var/lib/docker ]; then\n",
    "        sudo mv /var/lib/docker /mnt/\n",
    "    elif [ ! -d /mnt/docker ]; then\n",
    "        sudo mkdir /mnt/docker\n",
    "    fi\n",
    "\n",
    "    sudo ln -s /mnt/docker /var/lib/docker\n",
    "fi\n",
    "\n",
    "sudo apt-get install -y docker docker.io git\n",
    "sudo service docker start\n",
    "sudo usermod -aG docker $USER"
   ]
  },
  {
   "cell_type": "code",
   "execution_count": null,
   "metadata": {},
   "outputs": [],
   "source": [
    "run_script(user_name, app_host_names, 'install_docker.sh')"
   ]
  },
  {
   "cell_type": "markdown",
   "metadata": {},
   "source": [
    "Finally, report the host names we requested."
   ]
  },
  {
   "cell_type": "code",
   "execution_count": null,
   "metadata": {},
   "outputs": [],
   "source": [
    "app_host_names"
   ]
  },
  {
   "cell_type": "markdown",
   "metadata": {},
   "source": [
    "### Internal Host Names"
   ]
  },
  {
   "cell_type": "markdown",
   "metadata": {},
   "source": [
    "Many applications provide you with their private host name in Amazon's internal network rather than their external public host names. If you are not using SSH tunneling, this is problematic.\n",
    "\n",
    "To alleviate this, update your hosts file to point the internal host names the external IP addresses, though you will need to clean out this file every time you create a new cluster.\n",
    "\n",
    "Run the following lines to find out what you would need to add to your `/etc/hosts` file on Linux and Mac OS X or `/windows/system32/drivers/etc/hosts` on Windows."
   ]
  },
  {
   "cell_type": "code",
   "execution_count": null,
   "metadata": {},
   "outputs": [],
   "source": [
    "if assume_ssh_tunnel:\n",
    "    print('You will need to use SSH tunneling to reach the services on this instance')\n",
    "else:\n",
    "    hosts_entries = [\n",
    "        instance['PublicIpAddress'] + '\\t' + instance['PrivateDnsName']\n",
    "            for instance in app_instances\n",
    "    ]\n",
    "\n",
    "    print('\\n'.join(hosts_entries))"
   ]
  }
 ],
 "metadata": {
  "anaconda-cloud": {},
  "kernelspec": {
   "display_name": "Python 3",
   "language": "python",
   "name": "python3"
  },
  "language_info": {
   "codemirror_mode": {
    "name": "ipython",
    "version": 3
   },
   "file_extension": ".py",
   "mimetype": "text/x-python",
   "name": "python",
   "nbconvert_exporter": "python",
   "pygments_lexer": "ipython3",
   "version": "3.7.1"
  }
 },
 "nbformat": 4,
 "nbformat_minor": 1
}
