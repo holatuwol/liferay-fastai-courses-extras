{
 "cells": [
  {
   "cell_type": "markdown",
   "metadata": {
    "deletable": true,
    "editable": true
   },
   "source": [
    "# Amazon Installations: Elastic Compute Cloud"
   ]
  },
  {
   "cell_type": "markdown",
   "metadata": {
    "deletable": true,
    "editable": true
   },
   "source": [
    "## Usage Notes"
   ]
  },
  {
   "cell_type": "markdown",
   "metadata": {
    "deletable": true,
    "editable": true
   },
   "source": [
    "Amazon Elastic Compute Cloud (EC2) is Amazon's service for requesting virtual machines that are created in Amazon's cloud.\n",
    "\n",
    "This notebook will go over the different aspects of the virtual machine that you should take into consideration when you want to request a cluster of virtual machines, and the same considerations apply when requesting a single instance."
   ]
  },
  {
   "cell_type": "markdown",
   "metadata": {
    "deletable": true,
    "editable": true
   },
   "source": [
    "## Notebook Imports"
   ]
  },
  {
   "cell_type": "code",
   "execution_count": null,
   "metadata": {
    "collapsed": false,
    "deletable": true,
    "editable": true
   },
   "outputs": [],
   "source": [
    "%matplotlib inline"
   ]
  },
  {
   "cell_type": "code",
   "execution_count": null,
   "metadata": {
    "collapsed": false,
    "deletable": true,
    "editable": true
   },
   "outputs": [],
   "source": [
    "from __future__ import division, print_function\n",
    "from aws_base import *\n",
    "from aws_group import *\n",
    "from aws_iam import *\n",
    "from aws_request import *\n",
    "from aws_spot import *\n",
    "from aws_util import *\n",
    "from aws_volumes import *\n",
    "from IPython.display import display\n",
    "from matplotlib import pyplot"
   ]
  },
  {
   "cell_type": "markdown",
   "metadata": {
    "deletable": true,
    "editable": true
   },
   "source": [
    "## Identify the AMI"
   ]
  },
  {
   "cell_type": "markdown",
   "metadata": {
    "deletable": true,
    "editable": true
   },
   "source": [
    "If you already have an AMI you want to use, set it here. The only requirement is that the AMI uses Ubuntu (otherwise, future attempts to install software won't work). If you do not set one, one will automatically be chosen for you later in the notebook.\n",
    "\n",
    "https://console.aws.amazon.com/ec2/v2/home#Images"
   ]
  },
  {
   "cell_type": "code",
   "execution_count": null,
   "metadata": {
    "collapsed": true,
    "deletable": true,
    "editable": true
   },
   "outputs": [],
   "source": [
    "image_id = None"
   ]
  },
  {
   "cell_type": "markdown",
   "metadata": {
    "deletable": true,
    "editable": true
   },
   "source": [
    "## Check Spot Instance Pricing"
   ]
  },
  {
   "cell_type": "markdown",
   "metadata": {
    "deletable": true,
    "editable": true
   },
   "source": [
    "### Consider Instance Types"
   ]
  },
  {
   "cell_type": "markdown",
   "metadata": {
    "deletable": true,
    "editable": true
   },
   "source": [
    "It's important to consider multiple instance types for our workload, because it's not always the case that the smallest instance type is the cheapest instance type. It is not uncommon for lower tier EC2 instances prices to spike due to lazy programmers who cause the price to inflate for the lower tier EC2 instance type used by their programs. A good reference for the instance types is put together by the community of AWS users.\n",
    "\n",
    "* http://www.ec2instances.info/\n",
    "\n",
    "For general purpose usage, many applications are CPU-bound while still needing a decent amount of memory, so you will want to consider the general-purpose ``m1``, ``m3`` and ``m4`` instances for those tasks. However, for a lot of Liferay related purposes, you can actually lean towards something more specific.\n",
    "\n",
    "Below are a few examples of how you might decide on an instance type.\n",
    "\n",
    "* A standard Liferay instance that you use for cluster testing is CPU-bound while needing a moderate amount of memory, and so something from the `c3` and `c4` families is appropriate.\n",
    "* Liferay builds require a substantial amount of memory, but since they're running in the background, you can trade away some CPU capacity. For that reason, something from the `r4` family is appropriate, though you may switch to an `m3` or `m4` instance type if you find yourself needing a better trade-off balance.\n",
    "* Liferay upgrades require about the same amount of CPU power as a standard Liferay instance, but they need a lot more memory to succeed. When taking pricing into consideration, you would consider a larger variant in the `r4` family.\n",
    "* For purposes of deep learning, your only options are in the `p2` family."
   ]
  },
  {
   "cell_type": "code",
   "execution_count": null,
   "metadata": {
    "collapsed": true,
    "deletable": true,
    "editable": true
   },
   "outputs": [],
   "source": [
    "instance_types = [\n",
    "    'm1.small'    # Cheap SOCKS5 proxy\n",
    "#    'c3.large'    # Liferay cluster node\n",
    "#    'r4.large'    # Liferay bisect\n",
    "#    'r4.xlarge'   # Liferay upgrade\n",
    "#    'p2.xlarge'   # FastAI personal use\n",
    "#    'p2.16xlarge' # FastAI workshop\n",
    "]"
   ]
  },
  {
   "cell_type": "markdown",
   "metadata": {
    "deletable": true,
    "editable": true
   },
   "source": [
    "### Retrieve Price History"
   ]
  },
  {
   "cell_type": "markdown",
   "metadata": {
    "deletable": true,
    "editable": true
   },
   "source": [
    "When considering the instance type, one good metric is to look at the price of those instances types across several days. By default, the AWS GUI will show you the price history for 1 day and it allows you to look at the history for 7 days (one week) or 30 days (one month)."
   ]
  },
  {
   "cell_type": "code",
   "execution_count": null,
   "metadata": {
    "collapsed": false,
    "deletable": true,
    "editable": true
   },
   "outputs": [],
   "source": [
    "day_count = 7"
   ]
  },
  {
   "cell_type": "markdown",
   "metadata": {
    "deletable": true,
    "editable": true
   },
   "source": [
    "Now we'll actually retrieve that price history. We'll keep things as a list so that names (such as instance types and availability zones) stay sorted during our analysis."
   ]
  },
  {
   "cell_type": "code",
   "execution_count": null,
   "metadata": {
    "collapsed": false,
    "deletable": true,
    "editable": true
   },
   "outputs": [],
   "source": [
    "instances_price_history = [\n",
    "    (instance_type, get_region_price_history(instance_type, day_count))\n",
    "        for instance_type in instance_types\n",
    "]"
   ]
  },
  {
   "cell_type": "markdown",
   "metadata": {
    "deletable": true,
    "editable": true
   },
   "source": [
    "### Plot Price History"
   ]
  },
  {
   "cell_type": "markdown",
   "metadata": {
    "deletable": true,
    "editable": true
   },
   "source": [
    "There are a lot of ways to plot the price history, Since it's essentially prices over time, you could also perform time series analysis on the spot instance prices.\n",
    "\n",
    "For simplicity, though, we'll just plot the price trends over time relative to a target price, which is essentially how much you were intending to pay per node in your cluster per hour of runtime. This will be used when plotting the graph to make it easier for your to decide on the instance type."
   ]
  },
  {
   "cell_type": "code",
   "execution_count": null,
   "metadata": {
    "collapsed": true,
    "deletable": true,
    "editable": true
   },
   "outputs": [],
   "source": [
    "target_price = None"
   ]
  },
  {
   "cell_type": "markdown",
   "metadata": {
    "deletable": true,
    "editable": true
   },
   "source": [
    "If you didn't choose one in the previous step, this will use the averages of the per-instance target prices (described in the previous notebook on spot instances, and is essentially a percentage of the on-demand price based on the instance size) for the instance types that you've chosen."
   ]
  },
  {
   "cell_type": "code",
   "execution_count": null,
   "metadata": {
    "collapsed": false,
    "deletable": true,
    "editable": true
   },
   "outputs": [],
   "source": [
    "target_prices = get_target_prices()\n",
    "\n",
    "if target_price is None:\n",
    "    target_price = round(\n",
    "        numpy.mean([\n",
    "            target_prices[instance_type] for instance_type in instance_types\n",
    "        ]), 3)\n",
    "\n",
    "target_price"
   ]
  },
  {
   "cell_type": "markdown",
   "metadata": {
    "deletable": true,
    "editable": true
   },
   "source": [
    "Set the y-axis limit for the graph at where it would exceed the price for an on-demand instance for your largest instance type (because prices above that value are not meaningful), unless nothing in your price history comes close. Also add a dashed line to see for how long the prices stay below our desired target price."
   ]
  },
  {
   "cell_type": "code",
   "execution_count": null,
   "metadata": {
    "collapsed": false,
    "deletable": true,
    "editable": true
   },
   "outputs": [],
   "source": [
    "on_demand_prices = get_on_demand_prices()\n",
    "\n",
    "max_demand_price = max([\n",
    "    on_demand_prices[instance_type] for instance_type in instance_types\n",
    "])\n",
    "\n",
    "instance_type_count = len(instance_types)\n",
    "figure, subplots = pyplot.subplots(\n",
    "    instance_type_count, figsize = (16, 3 * instance_type_count),\n",
    "    sharex = True, sharey = True)\n",
    "\n",
    "if not isinstance(subplots, numpy.ndarray):\n",
    "    subplots = [subplots]\n",
    "\n",
    "best_historic_date = None\n",
    "best_historic_price = 0.0\n",
    "\n",
    "# Create subplots for each of the instance types, and within each subplot, create a line\n",
    "# graph representing the price history in each availability zone for that instance type\n",
    "\n",
    "for i in range(instance_type_count):\n",
    "\n",
    "    subplot = subplots[i]\n",
    "    instance_type, instance_price_history = instances_price_history[i]\n",
    "\n",
    "    subplot.set_title(instance_type)\n",
    "\n",
    "    zone_names = []\n",
    "\n",
    "    for zone_name, price_history in instance_price_history:\n",
    "        zone_names.append(zone_name)\n",
    "\n",
    "        min_historic_date = min(price_history['dates'])\n",
    "\n",
    "        if best_historic_date is None:\n",
    "            best_historic_date = min_historic_date\n",
    "        else:\n",
    "            best_historic_date = max(best_historic_date, min_historic_date)\n",
    "\n",
    "        max_historic_price = max(price_history['prices'])\n",
    "        best_historic_price = max(best_historic_price, max_historic_price)\n",
    "\n",
    "        subplot.plot(price_history['dates'], price_history['prices'])\n",
    "\n",
    "    box = subplot.get_position()\n",
    "    subplot.set_position([box.x0, box.y0, box.width * 0.8, box.height])\n",
    "\n",
    "    subplot.legend(\n",
    "        zone_names, loc = 'center left', bbox_to_anchor = (1, 0.5),\n",
    "        fancybox = True)\n",
    "\n",
    "# Normalize the subplots so that you can meaningfully compare them relative to the target\n",
    "# bid that you've set across instance types.\n",
    "\n",
    "for subplot in subplots:\n",
    "\n",
    "    subplot.axhline(y = target_price, color = 'black', ls = 'dashed')\n",
    "    subplot.set_xlim(xmin = min_historic_date)\n",
    "\n",
    "    best_ymax = max(max_historic_price, target_price) * 1.5\n",
    "    best_ymax = min(best_ymax, max_demand_price)\n",
    "\n",
    "    subplot.set_ylim(ymin = 0.0, ymax = best_ymax)"
   ]
  },
  {
   "cell_type": "markdown",
   "metadata": {
    "deletable": true,
    "editable": true
   },
   "source": [
    "## Confirm Pricing Choices"
   ]
  },
  {
   "cell_type": "markdown",
   "metadata": {
    "deletable": true,
    "editable": true
   },
   "source": [
    "### Select Instance Type"
   ]
  },
  {
   "cell_type": "markdown",
   "metadata": {
    "collapsed": true,
    "deletable": true,
    "editable": true
   },
   "source": [
    "Now that we've looked at the price history, we can choose our desired instance type."
   ]
  },
  {
   "cell_type": "code",
   "execution_count": null,
   "metadata": {
    "collapsed": false,
    "deletable": true,
    "editable": true
   },
   "outputs": [],
   "source": [
    "desired_instance_type = 'm1.small'"
   ]
  },
  {
   "cell_type": "markdown",
   "metadata": {
    "deletable": true,
    "editable": true
   },
   "source": [
    "We'll make sure that we didn't make a typo."
   ]
  },
  {
   "cell_type": "code",
   "execution_count": null,
   "metadata": {
    "collapsed": true,
    "deletable": true,
    "editable": true
   },
   "outputs": [],
   "source": [
    "assert desired_instance_type in instance_types"
   ]
  },
  {
   "cell_type": "markdown",
   "metadata": {
    "deletable": true,
    "editable": true
   },
   "source": [
    "If you are setting it up as a one-time test, then you should create a spot instance request (set the following variable to `False`) in order to limit the cost of running the instance.\n",
    "\n",
    "If you wish to reuse this machine again in the future or if this is a time-consuming test where you do not want to risk early termination of the EC2 instance, you will need to be able to start and stop the instance. If that's the case, you should create an on-demand instance (set the following variable to `True`)."
   ]
  },
  {
   "cell_type": "code",
   "execution_count": null,
   "metadata": {
    "collapsed": true,
    "deletable": true,
    "editable": true
   },
   "outputs": [],
   "source": [
    "is_on_demand = False"
   ]
  },
  {
   "cell_type": "markdown",
   "metadata": {
    "deletable": true,
    "editable": true
   },
   "source": [
    "### Confirm Instance Type"
   ]
  },
  {
   "cell_type": "markdown",
   "metadata": {
    "deletable": true,
    "editable": true
   },
   "source": [
    "Note that `t2` instances cannot be requested as spot instances, so we will force the value to `True` if you chose that instance type."
   ]
  },
  {
   "cell_type": "code",
   "execution_count": null,
   "metadata": {
    "collapsed": false,
    "deletable": true,
    "editable": true
   },
   "outputs": [],
   "source": [
    "if not is_on_demand and desired_instance_type.find('t2.') == 0:\n",
    "    is_on_demand = True\n",
    "\n",
    "is_on_demand"
   ]
  },
  {
   "cell_type": "markdown",
   "metadata": {},
   "source": [
    "If you haven't chosen an `image_id`, set your operating system. The code is able to figure out the proper `image_id` for Amazon Linux or Ubuntu, so specify one of the two."
   ]
  },
  {
   "cell_type": "code",
   "execution_count": null,
   "metadata": {
    "collapsed": true
   },
   "outputs": [],
   "source": [
    "linux_type = 'amazon'\n",
    "#linux_type = 'ubuntu'"
   ]
  },
  {
   "cell_type": "markdown",
   "metadata": {
    "deletable": true,
    "editable": true
   },
   "source": [
    "If you have not set an AMI, we will choose a default one based on your instance type. This choice will be made based on the virtualization options available for your instance type."
   ]
  },
  {
   "cell_type": "code",
   "execution_count": null,
   "metadata": {
    "collapsed": false,
    "deletable": true,
    "editable": true
   },
   "outputs": [],
   "source": [
    "if image_id is None:\n",
    "    virtualization_type = get_virtualization_type(desired_instance_type)\n",
    "    image_id = get_default_image_id(virtualization_type, linux_type)\n",
    "\n",
    "image_id"
   ]
  },
  {
   "cell_type": "markdown",
   "metadata": {
    "deletable": true,
    "editable": true
   },
   "source": [
    "The following will confirm that your instance type can be created with the virtualization type required by your AMI."
   ]
  },
  {
   "cell_type": "code",
   "execution_count": null,
   "metadata": {
    "collapsed": false,
    "deletable": true,
    "editable": true
   },
   "outputs": [],
   "source": [
    "ami_json = aws(\n",
    "    'ec2', 'describe-images', '--image-id', image_id,\n",
    "    '--region', region)\n",
    "\n",
    "image = ami_json['Images'][0]\n",
    "image_id = image['ImageId']\n",
    "\n",
    "image_virtualization_type = image['VirtualizationType']\n",
    "instance_virtualization_type = get_virtualization_type(\n",
    "    desired_instance_type, image_virtualization_type)\n",
    "\n",
    "assert image_virtualization_type == instance_virtualization_type"
   ]
  },
  {
   "cell_type": "markdown",
   "metadata": {
    "deletable": true,
    "editable": true
   },
   "source": [
    "### Identify Availability Zone"
   ]
  },
  {
   "cell_type": "markdown",
   "metadata": {
    "deletable": true,
    "editable": true
   },
   "source": [
    "If you are fixed to an availability zone due to an Amazon Elastic Block Store (EBS) volume, please set the availability zone containing this volume below."
   ]
  },
  {
   "cell_type": "code",
   "execution_count": null,
   "metadata": {
    "collapsed": true,
    "deletable": true,
    "editable": true
   },
   "outputs": [],
   "source": [
    "desired_zone_name = None"
   ]
  },
  {
   "cell_type": "markdown",
   "metadata": {
    "deletable": true,
    "editable": true
   },
   "source": [
    "If you do not have an availability zone, we will automatically select an availability zone based on the instance type that you selected."
   ]
  },
  {
   "cell_type": "code",
   "execution_count": null,
   "metadata": {
    "collapsed": false,
    "deletable": true,
    "editable": true
   },
   "outputs": [],
   "source": [
    "if desired_zone_name is None:\n",
    "    instance_price_history = None\n",
    "\n",
    "    for candidate_type, candidate_price_history in instances_price_history:\n",
    "        if candidate_type == desired_instance_type:\n",
    "            instance_price_history = candidate_price_history\n",
    "            break\n",
    "\n",
    "    df, desired_zone_name = choose_availability_zone(\n",
    "        desired_instance_type, instance_price_history, target_price)\n",
    "\n",
    "    display(df)\n",
    "\n",
    "desired_zone_name"
   ]
  },
  {
   "cell_type": "markdown",
   "metadata": {
    "deletable": true,
    "editable": true
   },
   "source": [
    "### Confirm Bid Price"
   ]
  },
  {
   "cell_type": "markdown",
   "metadata": {
    "deletable": true,
    "editable": true
   },
   "source": [
    "From our desired instance type, we will identify what our code has chosen for the bid price (essentially, it will always be the on-demand price). Note that the code below will throw an error if you made a typo in the name of your desired instance type."
   ]
  },
  {
   "cell_type": "code",
   "execution_count": null,
   "metadata": {
    "collapsed": false,
    "deletable": true,
    "editable": true
   },
   "outputs": [],
   "source": [
    "bid_price = on_demand_prices[desired_instance_type]\n",
    "bid_price"
   ]
  },
  {
   "cell_type": "markdown",
   "metadata": {
    "deletable": true,
    "editable": true
   },
   "source": [
    "## Create a Placement Group"
   ]
  },
  {
   "cell_type": "markdown",
   "metadata": {
    "deletable": true,
    "editable": true
   },
   "source": [
    "In order to ensure we have good networking in our cluster, we'll need to create a placement group.\n",
    "\n",
    "* http://docs.aws.amazon.com/AWSEC2/latest/UserGuide/placement-groups.html\n",
    "\n",
    "For convenience, we'll need to specify the name we'll use. This name should be unique per region."
   ]
  },
  {
   "cell_type": "code",
   "execution_count": null,
   "metadata": {
    "collapsed": true,
    "deletable": true,
    "editable": true
   },
   "outputs": [],
   "source": [
    "placement_group_name = None"
   ]
  },
  {
   "cell_type": "markdown",
   "metadata": {
    "deletable": true,
    "editable": true
   },
   "source": [
    "If the placement group doesn't exist, we'll create it."
   ]
  },
  {
   "cell_type": "code",
   "execution_count": null,
   "metadata": {
    "collapsed": false,
    "deletable": true,
    "editable": true
   },
   "outputs": [],
   "source": [
    "placement_group = None\n",
    "\n",
    "if placement_group_name is not None:\n",
    "    try:\n",
    "        matching_placement_groups = aws(\n",
    "            'ec2', 'describe-placement-groups', '--group-names', placement_group_name)\n",
    "    except:\n",
    "        matching_placement_groups = []\n",
    "\n",
    "    if len(matching_placement_groups) == 0:\n",
    "        aws(\n",
    "            'ec2', 'create-placement-group', '--region', region,\n",
    "            '--group-name', placement_group_name, '--strategy', 'cluster')\n",
    "\n",
    "        matching_placement_groups = aws(\n",
    "            'ec2', 'describe-placement-groups', '--group-names', placement_group_name)\n",
    "\n",
    "    placement_group = matching_placement_groups['PlacementGroups'][0]\n",
    "\n",
    "placement_group"
   ]
  },
  {
   "cell_type": "markdown",
   "metadata": {
    "deletable": true,
    "editable": true
   },
   "source": [
    "We can only use a placement group for certain instance types, as described in the documentation. Let's confirm that we have a valid type."
   ]
  },
  {
   "cell_type": "code",
   "execution_count": null,
   "metadata": {
    "collapsed": false,
    "deletable": true,
    "editable": true
   },
   "outputs": [],
   "source": [
    "# Only certain instance families support placement groups\n",
    "\n",
    "unavailable_instance_families = set([\n",
    "    'c1', 'm1', 'm2', 'm3', 't1', 't2'\n",
    "])\n",
    "\n",
    "desired_instance_family = desired_instance_type.split('.')[0]\n",
    "is_placement_group_instance_family = desired_instance_family not in unavailable_instance_families\n",
    "\n",
    "# Only large and higher instance types support placement groups\n",
    "\n",
    "desired_instance_subtype = desired_instance_type.split('.')[1]\n",
    "is_placement_group_instance_subtype = desired_instance_subtype.find('large') != -1\n",
    "\n",
    "# Find out if it's supported\n",
    "\n",
    "is_placement_group_allowed = is_placement_group_instance_family and is_placement_group_instance_subtype\n",
    "is_placement_group_allowed"
   ]
  },
  {
   "cell_type": "markdown",
   "metadata": {
    "deletable": true,
    "editable": true
   },
   "source": [
    "## Size the Cluster"
   ]
  },
  {
   "cell_type": "markdown",
   "metadata": {
    "deletable": true,
    "editable": true
   },
   "source": [
    "### Specify Cluster Size"
   ]
  },
  {
   "cell_type": "markdown",
   "metadata": {
    "deletable": true,
    "editable": true
   },
   "source": [
    "Now that you've identified what kind of node you want, the next step is to identify how many you want. A single spot request can generate more than one node, and you're probably using this notebook to understand how to configure a cluster that has more than one node."
   ]
  },
  {
   "cell_type": "code",
   "execution_count": null,
   "metadata": {
    "collapsed": true,
    "deletable": true,
    "editable": true
   },
   "outputs": [],
   "source": [
    "cluster_size = 1"
   ]
  },
  {
   "cell_type": "markdown",
   "metadata": {
    "deletable": true,
    "editable": true
   },
   "source": [
    "### Specify Volume Size"
   ]
  },
  {
   "cell_type": "markdown",
   "metadata": {
    "deletable": true,
    "editable": true
   },
   "source": [
    "Cost of storage increases linearly with the number of nodes, so you may want to limit your volume size. However, chances are you have a large number of nodes because the amount of data you need to process is larger than what can fit on a standard node.\n",
    "\n",
    "To avoid having things crash due to lacking disk space, increase this to whatever you need for your workload. Note that if you are using a `c3` or `m3` instance and you do not need the data to persist across server restarts, local storage on the machine may be able to offset some of your needs."
   ]
  },
  {
   "cell_type": "code",
   "execution_count": null,
   "metadata": {
    "collapsed": true,
    "deletable": true,
    "editable": true
   },
   "outputs": [],
   "source": [
    "volume_size = 20"
   ]
  },
  {
   "cell_type": "markdown",
   "metadata": {
    "deletable": true,
    "editable": true
   },
   "source": [
    "## Confirm the Request"
   ]
  },
  {
   "cell_type": "markdown",
   "metadata": {
    "deletable": true,
    "editable": true
   },
   "source": [
    "We now have all the details we need in order to issue our spot request."
   ]
  },
  {
   "cell_type": "code",
   "execution_count": null,
   "metadata": {
    "collapsed": false,
    "deletable": true,
    "editable": true
   },
   "outputs": [],
   "source": [
    "request_specification = {\n",
    "    'ImageId': image_id,\n",
    "    'KeyName': private_key_name,\n",
    "    'SecurityGroups': security_group_names,\n",
    "    'InstanceType': desired_instance_type,\n",
    "    'Placement': {\n",
    "        'AvailabilityZone': desired_zone_name\n",
    "    },\n",
    "    'BlockDeviceMappings': get_block_devices(image_id, desired_instance_type, volume_size)\n",
    "}\n",
    "\n",
    "if instance_profile_arn is not None:\n",
    "    request_specification['IamInstanceProfile'] = {\n",
    "        'Arn': instance_profile_arn\n",
    "    }\n",
    "\n",
    "if is_placement_group_allowed and placement_group is not None:\n",
    "    request_specification['Placement']['GroupName'] = placement_group_name\n",
    "\n",
    "if is_on_demand:\n",
    "    request_specification['DisableApiTermination'] = True\n",
    "    request_specification['InstanceInitiatedShutdownBehavior'] = 'stop'"
   ]
  },
  {
   "cell_type": "markdown",
   "metadata": {
    "deletable": true,
    "editable": true
   },
   "source": [
    "## Issue the Request"
   ]
  },
  {
   "cell_type": "markdown",
   "metadata": {
    "deletable": true,
    "editable": true
   },
   "source": [
    "We'll make a request for our application, and to distinguish it from other requests that are cached, we'll name it `app`."
   ]
  },
  {
   "cell_type": "code",
   "execution_count": null,
   "metadata": {
    "collapsed": false,
    "deletable": true,
    "editable": true
   },
   "outputs": [],
   "source": [
    "if is_on_demand:\n",
    "    app_request = OnDemandInstanceRequest('app')\n",
    "else:\n",
    "    app_request = SpotInstanceRequest('app')\n",
    "\n",
    "app_request.request(bid_price, cluster_size, request_specification)"
   ]
  },
  {
   "cell_type": "markdown",
   "metadata": {
    "deletable": true,
    "editable": true
   },
   "source": [
    "## Confirm Fulfillment"
   ]
  },
  {
   "cell_type": "markdown",
   "metadata": {
    "deletable": true,
    "editable": true
   },
   "source": [
    "Here, we make sure that the request has been fulfilled and that the instances are accessible by installing `awscli` to all machines."
   ]
  },
  {
   "cell_type": "code",
   "execution_count": null,
   "metadata": {
    "collapsed": false,
    "deletable": true,
    "editable": true
   },
   "outputs": [],
   "source": [
    "app_instances = app_request.get_fulfilled()\n",
    "app_host_names = [instance['PublicDnsName'] for instance in app_instances]\n",
    "\n",
    "if linux_type == 'ubuntu':\n",
    "    install_awscli('ubuntu', app_host_names)\n",
    "    extra_storage('ubuntu', app_host_names)\n",
    "else:\n",
    "    install_awscli('ec2-user', app_host_names)\n",
    "    extra_storage('ec2-user', app_host_names)\n",
    "\n",
    "app_host_names"
   ]
  },
  {
   "cell_type": "markdown",
   "metadata": {
    "deletable": true,
    "editable": true
   },
   "source": [
    "### Internal Host Names"
   ]
  },
  {
   "cell_type": "markdown",
   "metadata": {
    "deletable": true,
    "editable": true
   },
   "source": [
    "Many applications provide you with their private host name in Amazon's internal network rather than their external public host names. If you are not using SSH tunneling, this is problematic.\n",
    "\n",
    "To alleviate this, update your hosts file to point the internal host names the external IP addresses, though you will need to clean out this file every time you create a new cluster.\n",
    "\n",
    "Run the following lines to find out what you would need to add to your `/etc/hosts` file on Linux and Mac OS X or `/windows/system32/drivers/etc/hosts` on Windows."
   ]
  },
  {
   "cell_type": "code",
   "execution_count": null,
   "metadata": {
    "collapsed": false,
    "deletable": true,
    "editable": true
   },
   "outputs": [],
   "source": [
    "if assume_ssh_tunnel:\n",
    "    print('You will need to use SSH tunneling to reach the services on this instance')\n",
    "else:\n",
    "    hosts_entries = [\n",
    "        instance['PublicIpAddress'] + '\\t' + instance['PrivateDnsName']\n",
    "            for instance in app_instances\n",
    "    ]\n",
    "\n",
    "    print('\\n'.join(hosts_entries))"
   ]
  }
 ],
 "metadata": {
  "anaconda-cloud": {},
  "kernelspec": {
   "display_name": "Python [default]",
   "language": "python",
   "name": "python2"
  },
  "language_info": {
   "codemirror_mode": {
    "name": "ipython",
    "version": 2
   },
   "file_extension": ".py",
   "mimetype": "text/x-python",
   "name": "python",
   "nbconvert_exporter": "python",
   "pygments_lexer": "ipython2",
   "version": "2.7.13"
  }
 },
 "nbformat": 4,
 "nbformat_minor": 0
}
