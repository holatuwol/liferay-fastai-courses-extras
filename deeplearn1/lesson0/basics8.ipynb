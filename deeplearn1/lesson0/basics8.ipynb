{
 "cells": [
  {
   "cell_type": "markdown",
   "metadata": {},
   "source": [
    "# Amazon Basics 8: Security Groups"
   ]
  },
  {
   "cell_type": "markdown",
   "metadata": {
    "collapsed": true
   },
   "source": [
    "## Usage Notes"
   ]
  },
  {
   "cell_type": "markdown",
   "metadata": {},
   "source": [
    "Amazon Security Groups are a way to provide firewall rules to an Amazon Elastic Compute Cloud (EC2) instance.\n",
    "\n",
    "http://docs.aws.amazon.com/AWSEC2/latest/UserGuide/using-network-security.html"
   ]
  },
  {
   "cell_type": "markdown",
   "metadata": {},
   "source": [
    "## Notebook Imports"
   ]
  },
  {
   "cell_type": "code",
   "execution_count": null,
   "metadata": {
    "collapsed": false
   },
   "outputs": [],
   "source": [
    "from aws_base import *\n",
    "from aws_util import *\n",
    "from IPython.utils.py3compat import *\n",
    "from netaddr import IPAddress, IPNetwork\n",
    "import os"
   ]
  },
  {
   "cell_type": "markdown",
   "metadata": {
    "collapsed": true
   },
   "source": [
    "## Identify Security Groups"
   ]
  },
  {
   "cell_type": "markdown",
   "metadata": {},
   "source": [
    "You will need to make sure that you've configured security groups that you want to use in order to grant access to the instances created by the spot request.\n",
    "\n",
    "https://console.aws.amazon.com/ec2/v2/home#SecurityGroups\n",
    "\n",
    "You could go through all of this using just the `default` security group. However, if you have additional security groups that you want to grant access to your instances (for example, if you've created a security groups representing the IP addresses of team mates on a project that you want to keep separate from any of your own static IP addresses), add it to the list below."
   ]
  },
  {
   "cell_type": "code",
   "execution_count": null,
   "metadata": {
    "collapsed": true
   },
   "outputs": [],
   "source": [
    "security_group_names = ['default']"
   ]
  },
  {
   "cell_type": "markdown",
   "metadata": {},
   "source": [
    "We will need to make sure all of these security groups exist. To do that, we will want a utility function that converts our list of group names into a list of actual groups."
   ]
  },
  {
   "cell_type": "code",
   "execution_count": null,
   "metadata": {
    "collapsed": true
   },
   "outputs": [],
   "source": [
    "\"\"\"\n",
    "Utility method to retrieve the group that matches the specified group name.\n",
    "\"\"\"\n",
    "def get_security_group(group_name):\n",
    "    return get_security_groups([group_name])\n",
    "\n",
    "\"\"\"\n",
    "Utility method to retrieve the groups that matches the specified group names.\n",
    "\"\"\"\n",
    "def get_security_groups(group_names):\n",
    "    security_groups_json = aws('ec2', 'describe-security-groups')\n",
    "    security_groups = security_groups_json['SecurityGroups']\n",
    "\n",
    "    candidate_groups = {}\n",
    "\n",
    "    for security_group in security_groups:\n",
    "        security_group_name = security_group['GroupName']\n",
    "        if security_group_name in group_names:\n",
    "            candidate_groups[security_group_name] = security_group\n",
    "\n",
    "    return candidate_groups"
   ]
  },
  {
   "cell_type": "markdown",
   "metadata": {},
   "source": [
    "Now we use that function in order to convert our list of group names into a list of group IDs and confirm that all the security groups we've listed actually exist."
   ]
  },
  {
   "cell_type": "code",
   "execution_count": null,
   "metadata": {
    "collapsed": false
   },
   "outputs": [],
   "source": [
    "security_groups = get_security_groups(security_group_names)\n",
    "\n",
    "assert set(security_groups.keys()) == set(security_group_names)"
   ]
  },
  {
   "cell_type": "markdown",
   "metadata": {},
   "source": [
    "## Enable Cluster Communication"
   ]
  },
  {
   "cell_type": "markdown",
   "metadata": {},
   "source": [
    "We will want to examine `internal_security_group_name`, which is the security group for the cluster nodes to communicate with each other."
   ]
  },
  {
   "cell_type": "code",
   "execution_count": null,
   "metadata": {
    "collapsed": true
   },
   "outputs": [],
   "source": [
    "internal_security_group_name = 'default'"
   ]
  },
  {
   "cell_type": "markdown",
   "metadata": {},
   "source": [
    "One of the features of Amazon's security groups is that it allows you to grant access to all instances that are currently using a security group. The following script will make sure that your designated internal security group contains that rule."
   ]
  },
  {
   "cell_type": "code",
   "execution_count": null,
   "metadata": {
    "collapsed": false
   },
   "outputs": [],
   "source": [
    "internal_group = security_groups[internal_security_group_name]\n",
    "internal_group_id = internal_group['GroupId']\n",
    "internal_group_user_id = internal_group['OwnerId']\n",
    "\n",
    "is_cluster_communication_enabled = False\n",
    "\n",
    "for permission in internal_group['IpPermissions']:\n",
    "    if 'FromPort' not in permission or 'ToPort' not in permission:\n",
    "        continue\n",
    "\n",
    "    if permission['FromPort'] != 0 or permission['ToPort'] != 65535:\n",
    "        continue\n",
    "\n",
    "    for user_id_group_pair in permission['UserIdGroupPairs']:\n",
    "        if user_id_group_pair['GroupId'] != internal_group_id:\n",
    "            continue\n",
    "\n",
    "        if user_id_group_pair['UserId'] != internal_group_user_id:\n",
    "            continue\n",
    "\n",
    "        is_cluster_communication_enabled = True\n",
    "\n",
    "if not is_cluster_communication_enabled:\n",
    "    aws(\n",
    "        'ec2', 'authorize-security-group-ingress',\n",
    "        '--group-name', internal_security_group_name,\n",
    "        '--protocol', 'tcp', '--port', '0-65535',\n",
    "        '--source-group', internal_group_id,\n",
    "        '--group-owner', internal_group_user_id)\n",
    "\n",
    "    updated_security_groups = get_security_group(internal_security_group_name)\n",
    "    internal_group = updated_security_groups[internal_security_group_name]\n",
    "    security_groups[internal_security_group_name] = internal_group"
   ]
  },
  {
   "cell_type": "markdown",
   "metadata": {},
   "source": [
    "## Enable External Access"
   ]
  },
  {
   "cell_type": "markdown",
   "metadata": {},
   "source": [
    "In order to access the machines from the outside world, you have a few options. One option is to use SSH tunneling and configure your web browser to use the SSH tunnel as a SOCKS5 proxy. This will allow you to effectively use the DNS lookups on the remote machine and route your traffic through your tunnel to those machines.\n",
    "\n",
    "* https://www.digitalocean.com/community/tutorials/how-to-route-web-traffic-securely-without-a-vpn-using-a-socks-tunnel\n",
    "\n",
    "Another option is to simply allow all connections from your machine to the server without requiring an SSH tunnel. In theory, this is slightly less secure as it allows everyone who shares your IP address (such as an office that has only one public IP address) to access the server, but it is simpler to maintain.\n",
    "\n",
    "Please specify the group name that will contain that information in `external_security_group_name` and whether we should always assume SSH tunneling when spinning up EC2 instances."
   ]
  },
  {
   "cell_type": "code",
   "execution_count": null,
   "metadata": {
    "collapsed": true
   },
   "outputs": [],
   "source": [
    "external_security_group_name = 'default'\n",
    "assume_ssh_tunnel = True"
   ]
  },
  {
   "cell_type": "markdown",
   "metadata": {},
   "source": [
    "The following script will ensure that `external_security_group_name` exists and add your current public IP address to its rules if none of the other security groups in `security_group_names` provides you with access to your servers. This ensures that you will be able to access the cluster remotely."
   ]
  },
  {
   "cell_type": "code",
   "execution_count": null,
   "metadata": {
    "collapsed": false
   },
   "outputs": [],
   "source": [
    "external_group = security_groups[external_security_group_name]\n",
    "\n",
    "is_external_communication_enabled = False\n",
    "\n",
    "external_ip_address_string = check_output(['curl', '-s', 'http://ipinfo.io/ip'])\n",
    "external_ip_address = IPAddress(external_ip_address_string)\n",
    "\n",
    "for security_group in security_groups.values():\n",
    "    for permission in security_group['IpPermissions']:\n",
    "        if 'FromPort' not in permission or 'ToPort' not in permission:\n",
    "            continue\n",
    "\n",
    "        allow_ssh_port = permission['FromPort'] >= 22 and permission['ToPort'] <= 22\n",
    "        allow_all_ports = permission['FromPort'] == 0 and permission['ToPort'] == 65535\n",
    "\n",
    "        if not (assume_ssh_tunnel and allow_ssh_port) and not allow_all_ports:\n",
    "            continue\n",
    "\n",
    "        for ip_range in permission['IpRanges']:\n",
    "            ip_network_string = ip_range['CidrIp']\n",
    "            ip_network = IPNetwork(ip_network_string)\n",
    "\n",
    "            if external_ip_address in ip_network:\n",
    "                is_external_communication_enabled = True\n",
    "\n",
    "if not is_external_communication_enabled:\n",
    "    if assume_ssh_tunnel:\n",
    "        port_range = '22'\n",
    "    else:\n",
    "        port_range = '0-65535'\n",
    "\n",
    "    aws(\n",
    "        'ec2', 'authorize-security-group-ingress',\n",
    "        '--group-name', external_security_group_name,\n",
    "        '--protocol', 'tcp', '--port', port_range,\n",
    "        '--cidr', external_ip_address_string + '/32')\n",
    "\n",
    "    updated_security_groups = get_security_group(external_security_group_name)\n",
    "    external_group = updated_security_groups[external_security_group_name]\n",
    "    security_groups[external_security_group_name] = external_group"
   ]
  },
  {
   "cell_type": "markdown",
   "metadata": {},
   "source": [
    "## Convert Notebook to Script"
   ]
  },
  {
   "cell_type": "markdown",
   "metadata": {},
   "source": [
    "The following cell will use `jupyter nbconvert` to build an `aws_group.py` which will be used in future notebooks in this series."
   ]
  },
  {
   "cell_type": "code",
   "execution_count": null,
   "metadata": {
    "collapsed": false
   },
   "outputs": [],
   "source": [
    "%%javascript\n",
    "var script_file = 'aws_group.py';\n",
    "\n",
    "var notebook_name = window.document.getElementById('notebook_name').innerHTML;\n",
    "var nbconvert_command = 'jupyter nbconvert --stdout --to script ' + notebook_name;\n",
    "\n",
    "var grep_command = \"grep -v '^#' | grep -v -F get_ipython | sed '/^$/N;/^\\\\n$/D'\";\n",
    "var command = '!' + nbconvert_command + ' | ' + grep_command + ' > ' + script_file;\n",
    "\n",
    "if (Jupyter.notebook.kernel) {\n",
    "    Jupyter.notebook.kernel.execute(command);\n",
    "}"
   ]
  }
 ],
 "metadata": {
  "anaconda-cloud": {},
  "kernelspec": {
   "display_name": "Python [default]",
   "language": "python",
   "name": "python3"
  },
  "language_info": {
   "codemirror_mode": {
    "name": "ipython",
    "version": 3
   },
   "file_extension": ".py",
   "mimetype": "text/x-python",
   "name": "python",
   "nbconvert_exporter": "python",
   "pygments_lexer": "ipython3",
   "version": "3.5.2"
  }
 },
 "nbformat": 4,
 "nbformat_minor": 0
}
