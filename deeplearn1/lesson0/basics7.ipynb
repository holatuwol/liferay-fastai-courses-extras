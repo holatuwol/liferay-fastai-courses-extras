{
 "cells": [
  {
   "cell_type": "markdown",
   "metadata": {},
   "source": [
    "# Amazon Basics 7: Identity and Access Management"
   ]
  },
  {
   "cell_type": "markdown",
   "metadata": {},
   "source": [
    "## Usage Notes"
   ]
  },
  {
   "cell_type": "markdown",
   "metadata": {},
   "source": [
    "Amazon Identity and Access Management (IAM) is designed to allow you to control access to Amazon resources. The idea is to allow you to restrict access to entities that are created in Amazon, such as users and objects."
   ]
  },
  {
   "cell_type": "markdown",
   "metadata": {},
   "source": [
    "## Notebook Imports"
   ]
  },
  {
   "cell_type": "code",
   "execution_count": null,
   "metadata": {
    "collapsed": true
   },
   "outputs": [],
   "source": [
    "from __future__ import print_function\n",
    "from aws_base import *\n",
    "import json\n",
    "import os\n",
    "import subprocess"
   ]
  },
  {
   "cell_type": "markdown",
   "metadata": {},
   "source": [
    "## Update Your User"
   ]
  },
  {
   "cell_type": "markdown",
   "metadata": {},
   "source": [
    "These notebooks make calls on behalf of the user set via `aws configure`. These calls include creating EC2 instances, list IAM roles, manage security groups, and to list the names of your EC2 private keys (to confirm that any private key you specify is valid in your region).\n",
    "\n",
    "In order to allow these notebooks sufficient privileges to do their work, it's probably easiest to attach policies which allow us to know about IAM roles and the ability to create and manage EC2 instances.\n",
    "\n",
    "https://console.aws.amazon.com/iam/home#users\n",
    "\n",
    "Select the user that you created in the previous notebook and click on the **Add Permissions** button. On the permissions screen, select **Attach existing policies directly** and add `IAMReadOnlyAccess` and `AmazonEC2FullAccess`.\n",
    "\n",
    "In more advanced environments where there are many users, it is more desirable to attach those policies (or similar policies) to groups and assign your current AWS user to those groups. However, while this is a best practice, doing so is not a requirement for these exercises.\n",
    "\n",
    "https://console.aws.amazon.com/iam/home#groups"
   ]
  },
  {
   "cell_type": "markdown",
   "metadata": {},
   "source": [
    "### Confirm IAMReadOnlyAccess"
   ]
  },
  {
   "cell_type": "markdown",
   "metadata": {},
   "source": [
    "The following is a spot test which prints the user name of the user whose credentials were stored via `aws configure`. However, it will only work if you have the equivalent of the `IAMReadOnlyAccess` privilege."
   ]
  },
  {
   "cell_type": "code",
   "execution_count": null,
   "metadata": {
    "collapsed": false
   },
   "outputs": [],
   "source": [
    "user_name = None\n",
    "\n",
    "try:\n",
    "    user_json = aws('iam', 'get-user')\n",
    "    user = user_json['User']\n",
    "    user_name = user['UserName']\n",
    "except:\n",
    "    print('Insufficient IAM privileges')\n",
    "\n",
    "user_name"
   ]
  },
  {
   "cell_type": "markdown",
   "metadata": {},
   "source": [
    "### Confirm AmazonEC2FullAccess, Part 1"
   ]
  },
  {
   "cell_type": "markdown",
   "metadata": {},
   "source": [
    "The following is a spot test which retrieves the list of regions available for use in Amazon Web Service requests. It will only work if you have some level of EC2 access, though since it's an API read, it didn't actually need `AmazonEC2FullAccess` capabilities."
   ]
  },
  {
   "cell_type": "code",
   "execution_count": null,
   "metadata": {
    "collapsed": false
   },
   "outputs": [],
   "source": [
    "aws_regions_json = aws('ec2', 'describe-regions')\n",
    "aws_regions = aws_regions_json['Regions']\n",
    "region_names = [aws_region['RegionName'] for aws_region in aws_regions]"
   ]
  },
  {
   "cell_type": "markdown",
   "metadata": {},
   "source": [
    "Also to confirm your current settings, we'll see if the region you have set via `aws configure` matches one of the regions returned by this API read."
   ]
  },
  {
   "cell_type": "code",
   "execution_count": null,
   "metadata": {
    "collapsed": false
   },
   "outputs": [],
   "source": [
    "assert region in region_names"
   ]
  },
  {
   "cell_type": "markdown",
   "metadata": {},
   "source": [
    "### Confirm AmazonEC2FullAccess, Part 2"
   ]
  },
  {
   "cell_type": "markdown",
   "metadata": {},
   "source": [
    "To truly test this out, the following section will attempt to identify the image ID for an Ubuntu 14.04 AMI based on your current region.\n",
    "\n",
    "Run the following command, which performs a dry-run (permissions check, parameter validation) of EC2 instance creation, to see if you are allowed to run the default Ubuntu image. This will validate the `AmazonEC2FullAccess` policy."
   ]
  },
  {
   "cell_type": "code",
   "execution_count": null,
   "metadata": {
    "collapsed": false
   },
   "outputs": [],
   "source": [
    "!aws ec2 run-instances --dry-run \\\n",
    "    --image-id={get_default_image_id('hvm')} --instance-type t2.nano"
   ]
  },
  {
   "cell_type": "markdown",
   "metadata": {},
   "source": [
    "## Confirm IAM EC2 Policy"
   ]
  },
  {
   "cell_type": "markdown",
   "metadata": {},
   "source": [
    "### Confirm IAM Role"
   ]
  },
  {
   "cell_type": "markdown",
   "metadata": {},
   "source": [
    "Roles are a way to grant privileges to the instance itself through using Amazon's Identity and Access Management (IAM) roles. They are used to allow specific users to elevate their privileges for your account's resources or to allow an EC2 instance to have specific privileges on initialization.\n",
    "\n",
    "* https://console.aws.amazon.com/iam/home#roles\n",
    "\n",
    "For our purposes, we want to allow our EC2 instances to download from S3 buckets without having to specify user credentials. You can achieve this by creating an **AWS Service Role** for **Amazon EC2** with the `AmazonS3ReadOnlyAccess` policy attached. You can also give more permissions to the role, should you believe them to be necessary for what you're doing with the EC2 instance.\n",
    "\n",
    "Specify the name of the role that you created which has the minimum capabilities noted above."
   ]
  },
  {
   "cell_type": "code",
   "execution_count": null,
   "metadata": {
    "collapsed": true
   },
   "outputs": [],
   "source": [
    "iam_role_name = 'TRAIN_EC2_DefaultRole'"
   ]
  },
  {
   "cell_type": "markdown",
   "metadata": {},
   "source": [
    "The script below will retrieve the IAM Instance Profile that was created at the same time as your role so that it can use it when creating the EC2 instance. More information on instance profiles is available in the AWS documentation.\n",
    "\n",
    "http://docs.aws.amazon.com/IAM/latest/UserGuide/id_roles_use_switch-role-ec2_instance-profiles.html"
   ]
  },
  {
   "cell_type": "code",
   "execution_count": null,
   "metadata": {
    "collapsed": false
   },
   "outputs": [],
   "source": [
    "instance_profile_arn = None\n",
    "iam_role_arn = None\n",
    "\n",
    "if user_name is not None:\n",
    "    instance_profile_json = aws(\n",
    "        'iam', 'get-instance-profile', '--instance-profile-name', iam_role_name)\n",
    "\n",
    "    instance_profile = instance_profile_json['InstanceProfile']\n",
    "\n",
    "    instance_profile_arn = instance_profile['Arn']\n",
    "    iam_role_arn = instance_profile['Roles'][0]['Arn']\n",
    "\n",
    "[instance_profile_arn, iam_role_arn]"
   ]
  },
  {
   "cell_type": "markdown",
   "metadata": {},
   "source": [
    "### Create IAM Policy"
   ]
  },
  {
   "cell_type": "markdown",
   "metadata": {},
   "source": [
    "You will need to make sure that the current user has the ability to use this instance profile by making sure that the user has the ability to pass your declared role to the instance.\n",
    "\n",
    "https://console.aws.amazon.com/iam/home#policies\n",
    "\n",
    "This is how such a policy would be structured. You can take the output that is displayed and copy it to a new policy after replacing all the single quotes (the default way Python writes strings) and replacing them with double quotes."
   ]
  },
  {
   "cell_type": "code",
   "execution_count": null,
   "metadata": {
    "collapsed": false
   },
   "outputs": [],
   "source": [
    "if user_name is not None:\n",
    "    policy_info = {\n",
    "        'Version': '2012-10-17',\n",
    "        'Statement': [\n",
    "            {\n",
    "                'Effect': 'Allow',\n",
    "                'Action': [ 'iam:PassRole' ],\n",
    "                'Resource': [ str(iam_role_arn) ]\n",
    "            },\n",
    "            {\n",
    "                'Effect': 'Allow',\n",
    "                'Action': [ 'iam:AddRoleToInstanceProfile' ],\n",
    "                'Resource': [ str(instance_profile_arn) ]\n",
    "            }\n",
    "        ]\n",
    "    }\n",
    "\n",
    "    !echo '{json.dumps(policy_info, indent=4)}'"
   ]
  },
  {
   "cell_type": "markdown",
   "metadata": {},
   "source": [
    "To create this policy, navigate to the **Policies** section, click on the **Create Policies** button, click on the **Create Your Own Policy** button, give it any name and description you want (``Train_EC2_PassRole`` is what we'll be using as an example), and then paste in the above text.\n",
    "\n",
    "Once that's done, attach your policy to your user. Click on the **Users** section, then select your user, click on the **Add Permissions** button, select the **Attach existing policies directly** option, then choose the policy that you created in the previous step."
   ]
  },
  {
   "cell_type": "markdown",
   "metadata": {},
   "source": [
    "### Confirm IAM Role Passing"
   ]
  },
  {
   "cell_type": "markdown",
   "metadata": {},
   "source": [
    "After you've attached your policy to a user or group, run the following command, which performs a dry-run (permissions check, parameter validation) of EC2 instance creation, to see if you are allowed to run an instance using the instance profile associated with this IAM role."
   ]
  },
  {
   "cell_type": "code",
   "execution_count": null,
   "metadata": {
    "collapsed": false
   },
   "outputs": [],
   "source": [
    "!aws ec2 run-instances --dry-run \\\n",
    "    --image-id={get_default_image_id('hvm')} --instance-type t2.nano \\\n",
    "    --iam-instance-profile Arn=$instance_profile_arn"
   ]
  },
  {
   "cell_type": "markdown",
   "metadata": {},
   "source": [
    "If you're curious how to generate the policy through the Amazon GUI rather than simply copy-replace-paste something that was generated for you by a Python script, you can do the following:\n",
    "\n",
    "* Choose the Create Policy option\n",
    "* Follow the Policy Generator wizard\n",
    "* Ensure that this policy allows assuming the role\n",
    "    * Choose the AWS Identity and Access Management service\n",
    "    * Select the PassRole action\n",
    "    * Specify the role ARN above\n",
    "    * Select Add Statement\n",
    "* Ensure that this policy allows adding this role to an instance profile\n",
    "    * Choose the AWS Identity and Access Management service\n",
    "    * Select the AddRoleToInstanceProfile action\n",
    "    * Specify the instance profile ARN above\n",
    "    * Select Add Statement"
   ]
  },
  {
   "cell_type": "markdown",
   "metadata": {},
   "source": [
    "## Convert Notebook to Script"
   ]
  },
  {
   "cell_type": "markdown",
   "metadata": {},
   "source": [
    "The following cell will use `jupyter nbconvert` to build an `aws_iam.py` which will be used in future notebooks in this series."
   ]
  },
  {
   "cell_type": "code",
   "execution_count": null,
   "metadata": {
    "collapsed": false
   },
   "outputs": [],
   "source": [
    "%%javascript\n",
    "var script_file = 'aws_iam.py';\n",
    "\n",
    "var notebook_name = window.document.getElementById('notebook_name').innerHTML;\n",
    "var nbconvert_command = 'jupyter nbconvert --stdout --to script ' + notebook_name;\n",
    "\n",
    "var grep_command = \"grep -v '^#' | grep -v -F get_ipython | sed '/^$/N;/^\\\\n$/D'\";\n",
    "var command = '!' + nbconvert_command + ' | ' + grep_command + ' > ' + script_file;\n",
    "\n",
    "if (Jupyter.notebook.kernel) {\n",
    "    Jupyter.notebook.kernel.execute(command);\n",
    "}"
   ]
  }
 ],
 "metadata": {
  "anaconda-cloud": {},
  "kernelspec": {
   "display_name": "Python [default]",
   "language": "python",
   "name": "python3"
  },
  "language_info": {
   "codemirror_mode": {
    "name": "ipython",
    "version": 3
   },
   "file_extension": ".py",
   "mimetype": "text/x-python",
   "name": "python",
   "nbconvert_exporter": "python",
   "pygments_lexer": "ipython3",
   "version": "3.5.3"
  }
 },
 "nbformat": 4,
 "nbformat_minor": 0
}
