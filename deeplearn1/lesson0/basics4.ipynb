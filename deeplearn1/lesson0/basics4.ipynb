{
 "cells": [
  {
   "cell_type": "markdown",
   "metadata": {},
   "source": [
    "# Amazon Basics 4: Volumes and Snapshots"
   ]
  },
  {
   "cell_type": "markdown",
   "metadata": {
    "collapsed": true
   },
   "source": [
    "## Usage Notes"
   ]
  },
  {
   "cell_type": "markdown",
   "metadata": {},
   "source": [
    "The purpose of this notebook is to give you a quick introduction to how disk space works in Amazon's Elastic Compute Cloud (EC2)."
   ]
  },
  {
   "cell_type": "markdown",
   "metadata": {},
   "source": [
    "## Notebook Imports"
   ]
  },
  {
   "cell_type": "code",
   "execution_count": null,
   "metadata": {},
   "outputs": [],
   "source": [
    "from aws_base import *\n",
    "from aws_util import *"
   ]
  },
  {
   "cell_type": "markdown",
   "metadata": {},
   "source": [
    "## Understanding Volumes"
   ]
  },
  {
   "cell_type": "markdown",
   "metadata": {},
   "source": [
    "Disk space for Amazon EC2 works a lot like disk space for regular VMs in the sense that there is something roughly equivalent to a `vmdk` or `vdi` that's created.\n",
    "\n",
    "https://en.wikipedia.org/wiki/VMDK\n",
    "\n",
    "What makes Amazon EC2 easy to understand is that similar to having VMs on your external hard drive, the hard disk for an Amazon EC2 instance effectively lives on an external system referred to as Elastic Block Store.\n",
    "\n",
    "https://aws.amazon.com/ebs/\n",
    "\n",
    "Like Amazon S3, you are billed per gigabyte per month for storing data (in this case, having volumes) in this storage system.\n",
    "\n",
    "https://aws.amazon.com/ebs/pricing/\n",
    "\n",
    "As you run a virtual machine on your local machine, bits of it get loaded into main memory. Similarly, an EC2 instance volume lives in cloud storage (conceptually similar to an Amazon S3 bucket). As the virtual machine runs and asks for files, fragments of that volume transfer to the machine itself."
   ]
  },
  {
   "cell_type": "markdown",
   "metadata": {},
   "source": [
    "## Understanding Snapshots"
   ]
  },
  {
   "cell_type": "markdown",
   "metadata": {},
   "source": [
    "At any time, you can take a snapshot of the volumes for a running (or ideally, shutdown) virtual machine. These snapshots allow you to create something called an Amazon Machine Image (AMI).\n",
    "\n",
    "We briefly touched on this in the introduction to this notebook series, but basically, an Amazon Machine Image is a backup of a volume that can be used as a starting point for a virtual machine. It might be as simple as an operating system, where you can do as much as you want and start over, or it can be complex as a complete database installation, where you can create a brand new snapshot so that you don't have to redo any work.\n",
    "\n",
    "AMIs are stored in Amazon S3. This means that if you take a snapshot, you incur the costs of S3 storage in order to maintain that AMI. These costs are separate from the costs of the volumes in Elastic Block Store.\n",
    "\n",
    "http://docs.aws.amazon.com/AWSEC2/latest/UserGuide/AmazonS3.html\n",
    "\n",
    "Knowing that AMIs originate in S3 explains why creating a snapshot of a large database on Amazon EC2 and restoring it is extremely slow. It's because you're effectively streaming the database volume from Amazon S3 to Amazon EBS, and then from Amazon EBS back to your requested EC2 instance."
   ]
  },
  {
   "cell_type": "markdown",
   "metadata": {},
   "source": [
    "## Ephemeral Block Devices"
   ]
  },
  {
   "cell_type": "markdown",
   "metadata": {},
   "source": [
    "With that being said, you aren't restricted to just the disk stored in Amazon EBS. When you initialize a VM, you also have the option to request access to the local disks (or at least, effectively local disks) attached to the virtual machine. These are referred to as ephemeral block devices.\n",
    "\n",
    "http://docs.aws.amazon.com/AWSEC2/latest/UserGuide/InstanceStorage.html\n",
    "\n",
    "The amount of storage on these systems can be quite impressive for the higher tier machines, making them ideal for anything involving large amounts of data. However, for longer duration workloads, the pricing of these higher tier machines is much higher than running an extremely large EBS volume attached to a cheaper machine.\n",
    "\n",
    "http://www.ec2instances.info/\n",
    "\n",
    "These block devices are referred to as ephemeral storage because all data on this is lost if the server is ever shut down (the exception being a reboot that isn't a formal shut down). Therefore, while it is recommended that you at least ask for these volumes if you spin up a new virtual machine, be careful about storing data here if you plan on shutting down the server."
   ]
  },
  {
   "cell_type": "code",
   "execution_count": null,
   "metadata": {},
   "outputs": [],
   "source": [
    "\"\"\"\n",
    "List of block device counts based on http://ec2instances.info\n",
    "\"\"\"\n",
    "ephemeral_counts = {\n",
    "    'c1.medium': 1, 'c1.xlarge': 4,\n",
    "    'c3.large': 2, 'c3.xlarge': 2, 'c3.2xlarge': 2, 'c3.4xlarge': 2, 'c3.8xlarge': 2,\n",
    "    'c4.large': 0, 'c4.xlarge': 0, 'c4.2xlarge': 0, 'c4.4xlarge': 0, 'c4.8xlarge': 0,\n",
    "    'c5.large': 0, 'c5.xlarge': 0, 'c5.2xlarge': 0, 'c5.4xlarge': 0, 'c5.9xlarge': 0, 'c5.18xlarge': 0,\n",
    "    'c5d.large': 1, 'c5.xlarge': 1, 'c5.2xlarge': 1, 'c5.4xlarge': 1, 'c5.9xlarge': 1, 'c5.18xlarge': 2,\n",
    "    'cc2.8xlarge': 4,\n",
    "    'cg1.4xlarge': 2,\n",
    "    'cr1.8xlarge': 2,\n",
    "    'd2.xlarge': 3, 'd2.2xlarge': 6, 'd2.4xlarge': 12, 'd2.8xlarge': 24,\n",
    "    'g2.2xlarge': 1, 'g2.8xlarge': 2,\n",
    "    'hi1.4xlarge': 2,\n",
    "    'hs1.8xlarge': 24,\n",
    "    'i2.xlarge': 1, 'i2.2xlarge': 2, 'i2.4xlarge': 4, 'i2.8xlarge': 8,\n",
    "    'i3.large': 1, 'i3.xlarge': 1, 'i3.2xlarge': 1, 'i3.4xlarge': 2, 'i3.8xlarge': 4, 'i3.16xlarge': 8,\n",
    "    'm1.small': 2, 'm1.medium': 1, 'm1.large': 2, 'm1.xlarge': 4,\n",
    "    'm2.xlarge': 1, 'm2.2xlarge': 1, 'm2.4xlarge': 2,\n",
    "    'm3.medium': 1, 'm3.large': 1, 'm3.xlarge': 1, 'm3.2xlarge': 2,\n",
    "    'm4.large': 0, 'm4.xlarge': 0, 'm4.2xlarge': 0, 'm4.4xlarge': 0, 'm4.10xlarge': 0, 'm4.16xlarge': 0,\n",
    "    'm5.large': 0, 'm5.xlarge': 0, 'm5.2xlarge': 0, 'm5.4xlarge': 0, 'm5.12xlarge': 0, 'm5.24xlarge': 0,\n",
    "    'm5d.large': 1, 'm5d.xlarge': 1, 'm5d.2xlarge': 1, 'm5d.4xlarge': 2, 'm5d.12xlarge': 2, 'm5d.24xlarge': 4,\n",
    "    'p2.xlarge': 0, 'p2.8xlarge': 0, 'p2.16xlarge': 0,\n",
    "    'r3.large': 1, 'r3.xlarge': 1, 'r3.2xlarge': 1, 'r3.4xlarge': 1, 'r3.8xlarge': 2,\n",
    "    'r4.large': 0, 'r4.xlarge': 0, 'r4.2xlarge': 0, 'r4.4xlarge': 0, 'r4.8xlarge': 0, 'r4.16xlarge': 0,\n",
    "    't1.micro': 0,\n",
    "    't2.nano': 0, 't2.micro': 0, 't2.small': 0, 't2.medium': 0, 't2.large': 0,\n",
    "    'x1.16xlarge': 1, 'x1.32xlarge': 2,\n",
    "    'x1e.xlarge': 1, 'x1e.2xlarge': 1, 'x1e.4xlarge': 1, 'x1e.16xlarge': 1, 'x1e.32xlarge': 2\n",
    "}"
   ]
  },
  {
   "cell_type": "markdown",
   "metadata": {},
   "source": [
    "More information on how devices are named is listed here.\n",
    "\n",
    "* http://docs.aws.amazon.com/AWSEC2/latest/UserGuide/device_naming.html"
   ]
  },
  {
   "cell_type": "code",
   "execution_count": null,
   "metadata": {},
   "outputs": [],
   "source": [
    "\"\"\"\n",
    "Utility method which returns block storage.\n",
    "\"\"\"\n",
    "def get_block_devices(image_id, instance_type, volume_size):\n",
    "    image_info = aws(\n",
    "        'ec2', 'describe-images', '--image-ids', image_id, '--query',\n",
    "        'Images[0]')\n",
    "\n",
    "    root_devices = [\n",
    "        {\n",
    "            'DeviceName': image_info['RootDeviceName'],\n",
    "            'Ebs': {\n",
    "                'VolumeSize': volume_size,\n",
    "                'DeleteOnTermination': True,\n",
    "                'VolumeType': 'gp2'\n",
    "            }\n",
    "        }\n",
    "    ]\n",
    "\n",
    "    ephemeral_mappings = image_info['BlockDeviceMappings'][1:]\n",
    "\n",
    "    ephemeral_devices = [\n",
    "        {\n",
    "          \"DeviceName\" : mapping['DeviceName'],\n",
    "          \"VirtualName\" : mapping['VirtualName']\n",
    "        }\n",
    "        for mapping in ephemeral_mappings[0:ephemeral_counts[instance_type]]\n",
    "    ]\n",
    "\n",
    "    return root_devices + ephemeral_devices"
   ]
  },
  {
   "cell_type": "markdown",
   "metadata": {},
   "source": [
    "## Add Disk Mounts"
   ]
  },
  {
   "cell_type": "markdown",
   "metadata": {},
   "source": [
    "Of course, simply knowing how many volumes are available doesn't automatically translate to using it. In addition to requesting the volumes, you have to make sure that the volumes are mounted.\n",
    "\n",
    "The following script assumes a Linux environment and mounts those volumes. If you are using Windows, you will have to remember to mount these volumes manually, if you plan to use them."
   ]
  },
  {
   "cell_type": "code",
   "execution_count": null,
   "metadata": {},
   "outputs": [],
   "source": [
    "%%writefile scripts/extra_storage.sh\n",
    "#!/bin/bash\n",
    "\n",
    "VOLUMES=$(lsblk | grep -v '/$' | sed -n '2,$p' | cut -d' ' -f 1)\n",
    "INSTANCE_TYPE=$(curl -s http://169.254.169.254/latest/meta-data/instance-type)\n",
    "\n",
    "sudo umount /mnt\n",
    "\n",
    "echo $INSTANCE_TYPE\n",
    "\n",
    "NEW_MNT=\n",
    "\n",
    "if [ \"\" != \"$VOLUMES\" ]; then\n",
    "    for volume in $VOLUMES; do\n",
    "        echo $volume\n",
    "\n",
    "        if [ \"\" == \"$(sudo file -s /dev/$volume | grep -i '\\(linux\\|boot\\|swap\\)')\" ]; then\n",
    "            sudo mkfs -t ext4 /dev/$volume\n",
    "        fi\n",
    "\n",
    "        sudo mkdir -p /$volume\n",
    "        sudo mount /dev/$volume /$volume\n",
    "\n",
    "        if [ \"\" == \"$NEW_MNT\" ] && [ \"\" == \"$(sudo file -s /dev/$volume | grep -iF boot)\" ]; then\n",
    "            sudo mount --bind /$volume /mnt\n",
    "            NEW_MNT=$volume\n",
    "        fi\n",
    "    done\n",
    "fi"
   ]
  },
  {
   "cell_type": "code",
   "execution_count": null,
   "metadata": {},
   "outputs": [],
   "source": [
    "\"\"\"\n",
    "Utility method which mounts all available volumes.\n",
    "\"\"\"\n",
    "def extra_storage(user_name, host_names):\n",
    "    run_script(user_name, host_names, 'extra_storage.sh')"
   ]
  },
  {
   "cell_type": "markdown",
   "metadata": {
    "collapsed": true
   },
   "source": [
    "## Enable Swap Space"
   ]
  },
  {
   "cell_type": "markdown",
   "metadata": {},
   "source": [
    "This script creates a swap partition. You can use the local storage of the machines (available for m3 and r3 machines, for example) mounted at `/mnt` in order to benefit from the higher speed transfers. For machines that do not have this storage, it will create the directory and use the EBS storage for its swap space."
   ]
  },
  {
   "cell_type": "code",
   "execution_count": null,
   "metadata": {},
   "outputs": [],
   "source": [
    "%%writefile scripts/enable_swap.sh\n",
    "#!/bin/bash\n",
    "\n",
    "SWAP_SIZE=$(head -1 swapsize.txt)\n",
    "\n",
    "for swapdisk in $(/sbin/swapon -s | grep -F '/dev' | cut -d' ' -f 1); do\n",
    "    sudo /sbin/swapoff $swapdisk\n",
    "done\n",
    "\n",
    "echo \"Creating ${SWAP_SIZE}g swap partition\"\n",
    "\n",
    "# Make sure that everything persists across restarts.\n",
    "\n",
    "echo '#!/bin/bash' | sudo tee /etc/rc2.d/S01enable_swap\n",
    "echo \"SWAP_SIZE=$SWAP_SIZE\" | sudo tee -a /etc/rc2.d/S01enable_swap\n",
    "\n",
    "echo 'case \"$1\" in\n",
    "start)\n",
    "    mkdir /var/lock/subsys 2>/dev/null\n",
    "    touch /var/lock/subsys/listener\n",
    "\n",
    "    # Add designated amount of swap space\n",
    "    # stackoverflow.com/questions/17173972/how-do-you-add-swap-to-an-ec2-instance\n",
    "\n",
    "    if [ \"\" == \"$(/sbin/swapon -s)\" ]; then\n",
    "        if [ ! -f /mnt/swapfile ]; then\n",
    "            sudo dd if=/dev/zero of=/mnt/swapfile bs=1G seek=0 count=$SWAP_SIZE\n",
    "            sudo chmod og-rw /mnt/swapfile\n",
    "            sudo /sbin/mkswap /mnt/swapfile\n",
    "        fi\n",
    "\n",
    "        sudo /sbin/swapon /mnt/swapfile\n",
    "    fi ;;\n",
    "*)\n",
    "    echo error\n",
    "    exit 1 ;;\n",
    "esac' | sudo tee -a /etc/rc2.d/S01enable_swap\n",
    "\n",
    "# Run the same script that will be run on startup.\n",
    "\n",
    "sudo chmod a+rwx /etc/rc2.d/S01enable_swap\n",
    "sudo /etc/rc2.d/S01enable_swap start"
   ]
  },
  {
   "cell_type": "markdown",
   "metadata": {},
   "source": [
    "Finally, a utility method that we can call from any of our installation notebooks to set how much swap space we would like to initialize on the system."
   ]
  },
  {
   "cell_type": "code",
   "execution_count": null,
   "metadata": {},
   "outputs": [],
   "source": [
    "\"\"\"\n",
    "Utility method which creates a swap partition of the specified size.\n",
    "\"\"\"\n",
    "def enable_swap(user_name, host_names, swap_size):\n",
    "    with open('awscli/swapsize.txt', 'w') as swapsize_file:\n",
    "        swapsize_file.write(str(swap_size))\n",
    "\n",
    "    upload_file(user_name, host_names, 'awscli/swapsize.txt')\n",
    "    run_script(user_name, host_names, 'enable_swap.sh')"
   ]
  },
  {
   "cell_type": "markdown",
   "metadata": {},
   "source": [
    "## Convert Notebook to Script"
   ]
  },
  {
   "cell_type": "markdown",
   "metadata": {},
   "source": [
    "The following cell will use `jupyter nbconvert` to build an `aws_volumes.py` which will be used in future notebooks in this series."
   ]
  },
  {
   "cell_type": "code",
   "execution_count": null,
   "metadata": {},
   "outputs": [],
   "source": [
    "%%javascript\n",
    "var script_file = 'aws_volumes.py';\n",
    "\n",
    "var notebook_name = window.document.getElementById('notebook_name').innerHTML;\n",
    "var nbconvert_command = 'jupyter nbconvert --stdout --to script ' + notebook_name;\n",
    "\n",
    "var grep_command = \"grep -v '^#' | grep -v -F get_ipython | sed '/^$/N;/^\\\\n$/D'\";\n",
    "var command = '!' + nbconvert_command + ' | ' + grep_command + ' > ' + script_file;\n",
    "\n",
    "if (Jupyter.notebook.kernel) {\n",
    "    Jupyter.notebook.kernel.execute(command);\n",
    "}"
   ]
  }
 ],
 "metadata": {
  "anaconda-cloud": {},
  "kernelspec": {
   "display_name": "Python 3",
   "language": "python",
   "name": "python3"
  },
  "language_info": {
   "codemirror_mode": {
    "name": "ipython",
    "version": 3
   },
   "file_extension": ".py",
   "mimetype": "text/x-python",
   "name": "python",
   "nbconvert_exporter": "python",
   "pygments_lexer": "ipython3",
   "version": "3.6.2"
  }
 },
 "nbformat": 4,
 "nbformat_minor": 1
}
