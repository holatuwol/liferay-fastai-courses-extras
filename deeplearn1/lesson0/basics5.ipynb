{
 "cells": [
  {
   "cell_type": "markdown",
   "metadata": {},
   "source": [
    "# Amazon Basics 5: On-Demand Instances"
   ]
  },
  {
   "cell_type": "markdown",
   "metadata": {},
   "source": [
    "## Usage Notes"
   ]
  },
  {
   "cell_type": "markdown",
   "metadata": {},
   "source": [
    "The purpose of this notebook is to alleviate some of the boilerplate code associated with requesting and confirming the successful fulfillment of on-demand instances from Amazon Web Services.\n",
    "\n",
    "https://aws.amazon.com/ec2/purchasing-options/"
   ]
  },
  {
   "cell_type": "markdown",
   "metadata": {},
   "source": [
    "## Notebook Imports"
   ]
  },
  {
   "cell_type": "code",
   "execution_count": null,
   "metadata": {},
   "outputs": [],
   "source": [
    "from __future__ import print_function\n",
    "from aws_util import *\n",
    "import json\n",
    "import os\n",
    "import re\n",
    "import requests\n",
    "import time"
   ]
  },
  {
   "cell_type": "markdown",
   "metadata": {},
   "source": [
    "## EC2 Instance Requests"
   ]
  },
  {
   "cell_type": "markdown",
   "metadata": {},
   "source": [
    "Requesting an instance from the Amazon Elastic Compute Cloud is done through the Amazon EC2 API.\n",
    "\n",
    "http://docs.aws.amazon.com/cli/latest/reference/ec2/\n",
    "\n",
    "Requests generally require a JSON specification file and return JSON as output. We can store this output in order to confirm whether we've already issued a request, which will prevent duplicate requests from occurring (thus preventing needless costs).\n",
    "\n",
    "Once our request is issued and we have a response, we can continue polling Amazon's EC2 API until we have determined that our requests are fulfilled and the EC2 instances are running. Additionally, we will want to be able to run non-interactive scripts on our servers for software installation, so we will need to wait for the public key fingerprint for the servers to be available.\n",
    "\n",
    "https://en.wikipedia.org/wiki/Public_key_fingerprint\n",
    "\n",
    "The code below manages all of that state information that is general to most EC2 instance requests."
   ]
  },
  {
   "cell_type": "code",
   "execution_count": null,
   "metadata": {},
   "outputs": [],
   "source": [
    "\"\"\"\n",
    "Base class to use for EC2 instance requests.\n",
    "\"\"\"\n",
    "class InstanceRequest(object):\n",
    "\n",
    "    \"\"\"\n",
    "    Provide a place for us to store an active spot request.\n",
    "    \"\"\"\n",
    "    def __init__(self, prefix):\n",
    "        self.specification_file_name = 'awscli/%s_specification.json' % prefix\n",
    "        self.response_file_name = 'awscli/%s_response.json' % prefix\n",
    "        self.fulfilled_file_name = 'awscli/%s_instances.json' % prefix\n",
    "\n",
    "    \"\"\"\n",
    "    Retrieve the specification used during the last request.\n",
    "    \"\"\"\n",
    "    def get_specification(self):\n",
    "        if not os.path.isfile(self.specification_file_name):\n",
    "            return None\n",
    "\n",
    "        with open(self.specification_file_name, 'r') as specification_file:\n",
    "            return json.load(specification_file)\n",
    "\n",
    "    \"\"\"\n",
    "    Retrieve the last cached response.\n",
    "    \"\"\"\n",
    "    def get_response(self):\n",
    "        if not os.path.isfile(self.response_file_name):\n",
    "            return None\n",
    "\n",
    "        with open(self.response_file_name, 'r') as response_file:\n",
    "            return json.load(response_file)\n",
    "\n",
    "    \"\"\"\n",
    "    Retrieve the list of known EC2 instances corresponding to this request.\n",
    "    \"\"\"\n",
    "    def get_fulfilled(self):\n",
    "        if not os.path.isfile(self.fulfilled_file_name):\n",
    "            return None\n",
    "\n",
    "        with open(self.fulfilled_file_name, 'r') as fulfilled_file:\n",
    "            return json.load(fulfilled_file)\n",
    "\n",
    "    \"\"\"\n",
    "    Request a cluster. If there is already an active cluster that is stored in\n",
    "    the cache file, it will assume the request was already made and will await\n",
    "    its fulfillment.\n",
    "    \"\"\"\n",
    "    def request(self, bid_price, cluster_size, specification):\n",
    "\n",
    "        # Save the specification request\n",
    "\n",
    "        with open(self.specification_file_name, 'w') as specification_file:\n",
    "            json.dump(specification, specification_file, indent = 2)\n",
    "\n",
    "        # Check for a pre-existing response to a request and only issue a\n",
    "        # request if the pre-existing response does not exist.\n",
    "\n",
    "        response = self.get_response()\n",
    "\n",
    "        if response is None:\n",
    "            response = self.make_request(bid_price, cluster_size)\n",
    "\n",
    "            with open(self.response_file_name, 'w') as response_file:\n",
    "                json.dump(response, response_file)\n",
    "\n",
    "        # Wait for the instances to all be running\n",
    "\n",
    "        requested_instance_ids = self.get_instance_ids(response)\n",
    "        pending_instances = self.get_instances(\n",
    "            requested_instance_ids, 'pending')\n",
    "\n",
    "        while len(pending_instances) != 0:\n",
    "            print('Waiting for instances to start...')\n",
    "            time.sleep(15)\n",
    "            pending_instances = self.get_instances(\n",
    "                requested_instance_ids, 'pending')\n",
    "\n",
    "        running_instances = self.get_instances(\n",
    "            requested_instance_ids, 'running')\n",
    "\n",
    "        with open(self.fulfilled_file_name, 'w') as fulfilled_file:\n",
    "            json.dump(running_instances, fulfilled_file, indent = 2)\n",
    "\n",
    "        # Register running instances in known_hosts file\n",
    "\n",
    "        print('%d instances started' % len(running_instances))\n",
    "\n",
    "        for instance in running_instances:\n",
    "            self.add_known_host(instance)\n",
    "\n",
    "    \"\"\"\n",
    "    Utility method to check on instance IDs.\n",
    "    \"\"\"\n",
    "    def get_instances(self, instance_ids, state_name):\n",
    "\n",
    "        if len(instance_ids) == 0:\n",
    "            return []\n",
    "\n",
    "        # Retrieve all listed instances\n",
    "\n",
    "        reservations_json = aws(\n",
    "            'ec2', 'describe-instances', '--instance-ids',\n",
    "            *instance_ids)\n",
    "\n",
    "        # Filter down to instances with the specified state\n",
    "\n",
    "        instances = []\n",
    "        reservations = reservations_json['Reservations']\n",
    "\n",
    "        for reservation in reservations:\n",
    "            for instance in reservation['Instances']:\n",
    "                if instance['State']['Name'] == state_name:\n",
    "                    instances.append(instance)\n",
    "\n",
    "        # Sort the instances by launch time\n",
    "\n",
    "        instances = sorted(\n",
    "            instances,\n",
    "            key = lambda instance: instance['LaunchTime'])\n",
    "\n",
    "        return instances\n",
    "\n",
    "    \"\"\"\n",
    "    Add the given host's ECDSA to the known_hosts file by extracting the ECDSA\n",
    "    fingerprint.\n",
    "    \"\"\"\n",
    "    def add_known_host(self, instance):\n",
    "        if 'Platform' in instance:\n",
    "            platform = instance['Platform']\n",
    "\n",
    "            if platform == 'windows':\n",
    "                return\n",
    "\n",
    "        host_name = instance['PublicDnsName']\n",
    "\n",
    "        # We could extract the ECDSA fingerprint from the console output, but\n",
    "        # the console output can be blank. Rather than rely on console output,\n",
    "        # we'll be insecure and simply trust the server.\n",
    "\n",
    "        while not is_known_host(host_name):\n",
    "            subprocess.call([\n",
    "                'ssh', '-o', 'StrictHostKeyChecking=no', host_name, 'echo'\n",
    "            ])\n",
    "\n",
    "            time.sleep(5)\n",
    "\n",
    "        print('%s added to known hosts' % host_name)"
   ]
  },
  {
   "cell_type": "markdown",
   "metadata": {},
   "source": [
    "## On-Demand Prices"
   ]
  },
  {
   "cell_type": "markdown",
   "metadata": {},
   "source": [
    "On-demand instance requests are a specific type of EC2 request where you request a server at a fixed price. You can check the pricing for your region from the Amazon website.\n",
    "\n",
    "https://aws.amazon.com/ec2/pricing/#On-Demand_Instances\n",
    "\n",
    "The following code loads the pricing data for your region by parsing the JSON used to render that website so that it's possible to render it in other notebooks when you're planning to make a request."
   ]
  },
  {
   "cell_type": "code",
   "execution_count": null,
   "metadata": {},
   "outputs": [],
   "source": [
    "on_demand_prices = None\n",
    "\n",
    "\"\"\"\n",
    "Return the on-demand prices for Linux instances in the user's region.\n",
    "\"\"\"\n",
    "def get_on_demand_prices():\n",
    "    global on_demand_prices\n",
    "\n",
    "    # If we've already built it up once, then we don't have to rebuild\n",
    "\n",
    "    if on_demand_prices is not None:\n",
    "        return on_demand_prices\n",
    "\n",
    "    # Load the Linux on-demand instance pricing\n",
    "\n",
    "    on_demand_prices = {}\n",
    "\n",
    "    instance_types = get_instance_types()\n",
    "\n",
    "    for instance_type in instance_types:\n",
    "        instance_size = instance_type['instance_type']\n",
    "        instance_pricing = instance_type['pricing']\n",
    "\n",
    "        if region not in instance_pricing:\n",
    "            continue\n",
    "\n",
    "        demand_price = float(instance_type['pricing'][region]['linux']['ondemand'])\n",
    "        on_demand_prices[instance_size] = demand_price\n",
    "\n",
    "    # Return the pricing data\n",
    "\n",
    "    return on_demand_prices"
   ]
  },
  {
   "cell_type": "markdown",
   "metadata": {},
   "source": [
    "## Placement Groups"
   ]
  },
  {
   "cell_type": "code",
   "execution_count": null,
   "metadata": {},
   "outputs": [],
   "source": [
    "\"\"\"\n",
    "Return whether placement groups are allowed for the provided instance type\n",
    "\"\"\"\n",
    "def is_placement_group_allowed(desired_instance_type):\n",
    "    for instance_type in get_instance_types():\n",
    "        if instance_type['instance_type'] != desired_instance_type:\n",
    "            continue\n",
    "\n",
    "        return instance_type['placement_group_support']\n",
    "\n",
    "    return False\n",
    "\n",
    "\"\"\"\n",
    "Create a placement group with the desired name, making sure that the provided\n",
    "instance type supports placement groups\n",
    "\"\"\"\n",
    "def get_placement_group(desired_instance_type, placement_group_name):\n",
    "    if placement_group_name is None:\n",
    "        return None\n",
    "\n",
    "    if not is_placement_group_allowed(desired_instance_type):\n",
    "        return None\n",
    "\n",
    "    try:\n",
    "        matching_placement_groups = aws(\n",
    "            'ec2', 'describe-placement-groups', '--group-names', placement_group_name)\n",
    "    except:\n",
    "        matching_placement_groups = []\n",
    "\n",
    "    if len(matching_placement_groups) == 0:\n",
    "        aws(\n",
    "            'ec2', 'create-placement-group', '--region', region,\n",
    "            '--group-name', placement_group_name, '--strategy', 'cluster')\n",
    "\n",
    "        matching_placement_groups = aws(\n",
    "            'ec2', 'describe-placement-groups', '--group-names', placement_group_name)\n",
    "\n",
    "    return matching_placement_groups['PlacementGroups'][0]"
   ]
  },
  {
   "cell_type": "markdown",
   "metadata": {},
   "source": [
    "## On-Demand Instance Requests"
   ]
  },
  {
   "cell_type": "markdown",
   "metadata": {},
   "source": [
    "The code below extends the generic `InstanceRequest` ability with the ability to make an actual on-demand request."
   ]
  },
  {
   "cell_type": "code",
   "execution_count": null,
   "metadata": {},
   "outputs": [],
   "source": [
    "\"\"\"\n",
    "Extension of an InstanceRequest which works with on-demand instance requests.\n",
    "\"\"\"\n",
    "class OnDemandInstanceRequest(InstanceRequest):\n",
    "\n",
    "    \"\"\"\n",
    "    Issues a request for on-demand instances with the given number of cluster\n",
    "    nodes. The bid price will be ignored.\n",
    "    \"\"\"\n",
    "    def make_request(self, bid_price, cluster_size):\n",
    "        return aws(\n",
    "            'ec2', 'run-instances', '--count', cluster_size,\n",
    "            '--cli-input-json', 'file://' + self.specification_file_name)\n",
    "\n",
    "    \"\"\"\n",
    "    Retrieve the instance IDs that are associated with the given response.\n",
    "    \"\"\"\n",
    "    def get_instance_ids(self, response):\n",
    "        return [instance['InstanceId'] for instance in response['Instances']]"
   ]
  },
  {
   "cell_type": "markdown",
   "metadata": {},
   "source": [
    "## Convert Notebook to Script"
   ]
  },
  {
   "cell_type": "markdown",
   "metadata": {},
   "source": [
    "The following cell will use `jupyter nbconvert` to build an `aws_request.py` which will be used in future notebooks in this series."
   ]
  },
  {
   "cell_type": "code",
   "execution_count": null,
   "metadata": {},
   "outputs": [],
   "source": [
    "%%javascript\n",
    "var script_file = 'aws_request.py';\n",
    "\n",
    "var notebook_name = window.document.getElementById('notebook_name').innerHTML;\n",
    "var nbconvert_command = 'jupyter nbconvert --stdout --to script ' + notebook_name;\n",
    "\n",
    "var grep_command = \"grep -v '^#' | grep -v -F get_ipython | sed '/^$/N;/^\\\\n$/D'\";\n",
    "var command = '!' + nbconvert_command + ' | ' + grep_command + ' > ' + script_file;\n",
    "\n",
    "if (Jupyter.notebook.kernel) {\n",
    "    Jupyter.notebook.kernel.execute(command);\n",
    "}"
   ]
  }
 ],
 "metadata": {
  "anaconda-cloud": {},
  "kernelspec": {
   "display_name": "Python 3",
   "language": "python",
   "name": "python3"
  },
  "language_info": {
   "codemirror_mode": {
    "name": "ipython",
    "version": 3
   },
   "file_extension": ".py",
   "mimetype": "text/x-python",
   "name": "python",
   "nbconvert_exporter": "python",
   "pygments_lexer": "ipython3",
   "version": "3.7.1"
  }
 },
 "nbformat": 4,
 "nbformat_minor": 1
}
