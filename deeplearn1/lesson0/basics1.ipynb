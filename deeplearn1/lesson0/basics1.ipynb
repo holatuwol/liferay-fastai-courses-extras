{
 "cells": [
  {
   "cell_type": "markdown",
   "metadata": {},
   "source": [
    "# Amazon Basics 1: Introduction"
   ]
  },
  {
   "cell_type": "markdown",
   "metadata": {},
   "source": [
    "## Usage Notes"
   ]
  },
  {
   "cell_type": "markdown",
   "metadata": {},
   "source": [
    "The purpose of this notebook is to give you a quick introduction to the purpose of this series of notebooks as well as provide you with the prerequisites to actually following along, because it will involve some software that you may have never used before."
   ]
  },
  {
   "cell_type": "markdown",
   "metadata": {},
   "source": [
    "## Notebook Imports"
   ]
  },
  {
   "cell_type": "code",
   "execution_count": null,
   "metadata": {
    "collapsed": false
   },
   "outputs": [],
   "source": [
    "from IPython.utils.py3compat import *\n",
    "import json\n",
    "import os\n",
    "import subprocess\n",
    "import sys"
   ]
  },
  {
   "cell_type": "markdown",
   "metadata": {},
   "source": [
    "## Initial Steps"
   ]
  },
  {
   "cell_type": "markdown",
   "metadata": {},
   "source": [
    "This tutorial is prepared as a series of Jupyter notebooks.\n",
    "\n",
    "* http://jupyter.org/\n",
    "\n",
    "A convenient way to install Jupyter and other Python packages is through Anaconda, and this notebook series assumes that you're using ``conda`` to manage everything.\n",
    "\n",
    "* https://www.continuum.io/downloads\n",
    "\n",
    "However, since you don't need all the mathematics and scientific computing libraries associated with Anaconda, you can actually use its slimmed-down version Miniconda instead.\n",
    "\n",
    "* http://conda.pydata.org/miniconda.html\n",
    "\n",
    "After you've installed either Anaconda and Miniconda, create a new environment for creating EC2 instances (or you can reuse any existing environments you already have), navigate to where you downloaded the notebooks, and start Jupyter.\n",
    "\n",
    "On Linux and OS X, you would run the following commands.\n",
    "\n",
    "```\n",
    "conda create -n USEFUL_NAME pip jupyter nb_conda\n",
    "source activate USEFUL_NAME\n",
    "jupyter notebook\n",
    "```\n",
    "\n",
    "On Windows, you would run the following commands instead.\n",
    "\n",
    "```\n",
    "conda create -n USEFUL_NAME pip jupyter nb_conda\n",
    "activate USEFUL_NAME\n",
    "jupyter notebook\n",
    "```\n",
    "\n",
    "You can also optionally force a specific version of Python for each environment. The notebook series was originally written for Python 2 and was migrated to Python 3, so you can specify either `python=2` or `python=3` depending on personal preferences.\n",
    "\n",
    "Once you've setup your `conda` environment, downloaded the tutorial series, and started Jupyter, you should see this file (`basics1.ipynb`) listed in the web browser. Click on it to begin.\n",
    "\n",
    "Note: if the `jupyter notebook` command opens the wrong browser, and you do not wish to have to worry about tokens (this makes your installation less secure), you can also optionally add a file `USER_HOME/.jupyter/jupyter_notebook_config.py` with the following content.\n",
    "\n",
    "```\n",
    "c.NotebookApp.token = u''\n",
    "```"
   ]
  },
  {
   "cell_type": "markdown",
   "metadata": {},
   "source": [
    "### Conda Check"
   ]
  },
  {
   "cell_type": "markdown",
   "metadata": {},
   "source": [
    "Let's first make sure that you have everything installed."
   ]
  },
  {
   "cell_type": "code",
   "execution_count": null,
   "metadata": {
    "collapsed": false
   },
   "outputs": [],
   "source": [
    "!conda list pip\n",
    "!conda list jupyter\n",
    "!conda list nb_conda"
   ]
  },
  {
   "cell_type": "markdown",
   "metadata": {},
   "source": [
    "On Windows, you'll need to make sure that Python associate your `conda` installation for files with the `.py` extension. Luckily `sys.executable` from within Jupyter tells us the information we need."
   ]
  },
  {
   "cell_type": "code",
   "execution_count": null,
   "metadata": {
    "collapsed": false
   },
   "outputs": [],
   "source": [
    "if os.name == 'nt':\n",
    "    subprocess.call(['assoc', '.py=py_auto_file'])\n",
    "    subprocess.call(['ftype', 'py_auto_file=\"%s\"' % sys.executable, '\"%1\"', '%*'])"
   ]
  },
  {
   "cell_type": "markdown",
   "metadata": {},
   "source": [
    "### AWS CLI Check"
   ]
  },
  {
   "cell_type": "markdown",
   "metadata": {},
   "source": [
    "The goal of this series is to introduce you to some of the things that can be done with Amazon Web Services through its command line interface (`awscli`), along with a lot of scripts that you can use to provision servers in the Amazon Cloud.\n",
    "\n",
    "The scripted provided in this tutorial uses `awscli` as the main interface to everything related to Amazon Web Services. In other words, this notebook provides wrappers which do nothing more than invoke CLI commands, though technically it could be implemented using Python libraries, like `boto`."
   ]
  },
  {
   "cell_type": "markdown",
   "metadata": {},
   "source": [
    "First, let's make sure that you have `awscli`."
   ]
  },
  {
   "cell_type": "code",
   "execution_count": null,
   "metadata": {
    "collapsed": false
   },
   "outputs": [],
   "source": [
    "!pip install awscli"
   ]
  },
  {
   "cell_type": "markdown",
   "metadata": {},
   "source": [
    "If you are on Windows, it is recommended that you instead install the native `awscli` client for your operating system as it will work in both Git Bash and the regular Windows command prompt.\n",
    "\n",
    "* https://aws.amazon.com/cli/\n",
    "\n",
    "However, if you're not on Windows, or you don't see a need to use the native version (you want to see if a non-native client works), then this command will attempt to install it via `pip`.\n",
    "\n",
    "First, we'll make sure that you successfully installed `awscli`. If `awscli` is installed, invoking `aws` results in an error that reads as follows.\n",
    "\n",
    "```\n",
    "usage: aws [options] <command> <subcommand> [<subcommand> ...] [parameters]\n",
    "To see help text, you can run:\n",
    "\n",
    "  aws help\n",
    "  aws <command> help\n",
    "  aws <command> <subcommand> help\n",
    "aws: error: the following arguments are required: command\n",
    "```\n",
    "\n",
    "Make sure that your text is similar to this error."
   ]
  },
  {
   "cell_type": "code",
   "execution_count": null,
   "metadata": {
    "collapsed": false
   },
   "outputs": [],
   "source": [
    "!aws"
   ]
  },
  {
   "cell_type": "markdown",
   "metadata": {},
   "source": [
    "## Creating an AWS User"
   ]
  },
  {
   "cell_type": "markdown",
   "metadata": {},
   "source": [
    "### Specify Region"
   ]
  },
  {
   "cell_type": "markdown",
   "metadata": {},
   "source": [
    "The first command you need to run before you do anything with `awscli` is `aws configure`. This will prompt you for security credentials, a region, and some default output.\n",
    "\n",
    "* You can leave the security credentials values blank for now (we will create a user in the next section with the correct privileges and re-run `aws configure` at that time).\n",
    "* Regions govern what we are able to do ([Regions and Availability Zones](http://docs.aws.amazon.com/AWSEC2/latest/UserGuide/using-regions-availability-zones.html), and usually we choose a region that is geographically close to our current location for low-latency access.\n",
    "* Output format defines how you would like to see the output. JSON is one of the more structured options, and you can pipe the output through tools like `jq` to extract other data, and so this entire tutorial recommends using that output format.\n",
    "\n",
    "To make sure that you've configured everything, let's confirm the output of the following command matches what you thought you configured using `aws configure`."
   ]
  },
  {
   "cell_type": "code",
   "execution_count": null,
   "metadata": {
    "collapsed": false
   },
   "outputs": [],
   "source": [
    "region = subprocess.check_output(['aws', 'configure', 'get', 'region']).strip()\n",
    "region = bytes_to_str(region)\n",
    "region"
   ]
  },
  {
   "cell_type": "markdown",
   "metadata": {},
   "source": [
    "### Alias AWS CLI"
   ]
  },
  {
   "cell_type": "markdown",
   "metadata": {},
   "source": [
    "A lot of our tasks will involve calling the AWS CLI directly. However, sometimes we will want to interpret the return value, which under many default configurations is Javascript Object Notation.\n",
    "\n",
    "Python actually has a nice library `boto` for interacting with Amazon EC2 which can provide useful return values. However, the syntax differs slightly from `awscli` and it doesn't work with the JSON files accepted by the `aws` commands. Therefore, rather than confuse ourselves, we're going to start with a function that uses the AWS CLI command line interface directly."
   ]
  },
  {
   "cell_type": "code",
   "execution_count": null,
   "metadata": {
    "collapsed": true
   },
   "outputs": [],
   "source": [
    "\"\"\"\n",
    "Utility method which allows us to invoke AWS without magic commands.\n",
    "\"\"\"\n",
    "def aws(*args):\n",
    "    command = ['aws'] + [str(x) for x in args]\n",
    "    output = subprocess.check_output(command)\n",
    "\n",
    "    try:\n",
    "        return json.loads(bytes_to_str(output))\n",
    "    except:\n",
    "        return None"
   ]
  },
  {
   "cell_type": "markdown",
   "metadata": {},
   "source": [
    "## Amazon Machine Images"
   ]
  },
  {
   "cell_type": "markdown",
   "metadata": {},
   "source": [
    "Everything starts with understanding Amazon Machine Images (AMI). Conceptually, you can think of an AMI as something that contains an operating system and potentially lots of different software pre-installed. It serves as the base of any virtual machines you request from Amazon Web Services.\n",
    "\n",
    "https://console.aws.amazon.com/ec2/v2/home#Images"
   ]
  },
  {
   "cell_type": "code",
   "execution_count": null,
   "metadata": {
    "collapsed": true
   },
   "outputs": [],
   "source": [
    "image_types = {\n",
    "    'ubuntu': {\n",
    "        'paravirtual': 'ubuntu/images/ebs-ssd/ubuntu-xenial-16.04-amd64-server-20160907.1',\n",
    "        'hvm': 'ubuntu/images/hvm-ssd/ubuntu-xenial-16.04-amd64-server-20160907.1'\n",
    "    },\n",
    "    'amazon': {\n",
    "        'paravirtual': 'amzn-ami-pv-2016.09.0.20160923-x86_64-ebs',\n",
    "        'hvm': 'amzn-ami-hvm-2016.09.0.20160923-x86_64-gp2'\n",
    "    },\n",
    "    'redhat': {\n",
    "        'hvm': 'RHEL-7.2_HVM_GA-20151112-x86_64-1-Hourly2-GP2',\n",
    "    },\n",
    "    'suse': {\n",
    "        'hvm': 'suse-sles-12-sp1-v20151215-hvm-ssd-x86_64'\n",
    "    }\n",
    "}"
   ]
  },
  {
   "cell_type": "markdown",
   "metadata": {},
   "source": [
    "When you create a new virtual machine, you can choose an operating system, and then choose between two different AMIs, each of which supports a specific kind of virtualization. Conceptually, the virtualization has a slight impact on performance, but the reality is that the performance difference for many simple applications isn't noticeable."
   ]
  },
  {
   "cell_type": "code",
   "execution_count": null,
   "metadata": {
    "collapsed": true
   },
   "outputs": [],
   "source": [
    "def get_default_image_id(virtualization_type, linux_type='ubuntu'):\n",
    "    if linux_type not in image_types:\n",
    "        error_notes = (linux_type, ', '.join(image_types.keys()))\n",
    "        raise ValueError('%s is not an available operating system (%s)' % error_notes)\n",
    "\n",
    "    linux_image_types = image_types[linux_type]\n",
    "\n",
    "    if virtualization_type not in linux_image_types:\n",
    "        error_notes = (image_type, linux_type, ', '.join(linux_image_types.keys()))\n",
    "        raise ValueError('%s is not an available virtualization for operating system %s (%s)' % error_keys)\n",
    "\n",
    "    image_name = linux_image_types[virtualization_type]\n",
    "\n",
    "    default_ami_json = aws('ec2', 'describe-images', '--filters', 'Name=name,Values=' + image_name)\n",
    "\n",
    "    default_image = default_ami_json['Images'][0]\n",
    "    return default_image['ImageId']"
   ]
  },
  {
   "cell_type": "markdown",
   "metadata": {},
   "source": [
    "What's important that your choice will change what kind of instance types are available to you, and thus potentially your expected cost. The options are paravirtual (PV) and hardware virtual (HVM), and whenever you plan to create an Amazon Elastic Compute Cloud (EC2) instance in this notebook series, you will be asked which one you actually want.\n",
    "\n",
    "http://docs.aws.amazon.com/AWSEC2/latest/UserGuide/virtualization_types.html\n",
    "\n",
    "There are more instance type options available to HVM machines, but spot instance requests for PV machines are substantially cheaper due to the lower number of users using the virtualization type."
   ]
  },
  {
   "cell_type": "code",
   "execution_count": null,
   "metadata": {
    "collapsed": true
   },
   "outputs": [],
   "source": [
    "unavailable_instance_families = {\n",
    "    'paravirtual': ['t2', 'm4', 'c4', 'cc2', 'g2', 'r3', 'cr1', 'd2', 'i2'],\n",
    "    'hvm': ['m1', 'c1', 'm2']\n",
    "}\n",
    "\n",
    "def get_virtualization_type(instance_type, default_value = 'hvm'):\n",
    "    instance_family = instance_type[:instance_type.find('.')]\n",
    "\n",
    "    if instance_family in unavailable_instance_families['paravirtual']:\n",
    "        return 'hvm'\n",
    "    elif instance_family in unavailable_instance_families['hvm']:\n",
    "        return 'paravirtual'\n",
    "    else:\n",
    "        return default_value"
   ]
  },
  {
   "cell_type": "markdown",
   "metadata": {},
   "source": [
    "## Python Packages for the Future"
   ]
  },
  {
   "cell_type": "markdown",
   "metadata": {},
   "source": [
    "Since this is a series of Jupyter notebooks, I will be making use of the Python programming language. Below are some of the packages you'll need to make sure you have installed."
   ]
  },
  {
   "cell_type": "markdown",
   "metadata": {},
   "source": [
    "### matplotlib"
   ]
  },
  {
   "cell_type": "markdown",
   "metadata": {},
   "source": [
    "The first library you will need is `matplotlib`, which you can add to your environment via `conda install`.\n",
    "\n",
    "* http://matplotlib.org/\n",
    "\n",
    "This library provides plotting capabilities. We will be using only a fraction of its capabilities in order to visualize spot instance prices in order to determine (visually) which availability zones make sense when creating spot instance requests."
   ]
  },
  {
   "cell_type": "code",
   "execution_count": null,
   "metadata": {
    "collapsed": false
   },
   "outputs": [],
   "source": [
    "!conda install -y matplotlib"
   ]
  },
  {
   "cell_type": "markdown",
   "metadata": {},
   "source": [
    "### netaddr"
   ]
  },
  {
   "cell_type": "markdown",
   "metadata": {},
   "source": [
    "The next library you will need is `netaddr` which you can add to your environment via `pip install`.\n",
    "\n",
    "* https://pythonhosted.org/netaddr/\n",
    "\n",
    "This library provides the ability to detect whether an IP address is available within some Classless Inter-Domain Routing (CIDR) address. We are effectively using it in order to determine if our public IP address has been given access to the EC2 instances we are creating."
   ]
  },
  {
   "cell_type": "code",
   "execution_count": null,
   "metadata": {
    "collapsed": false
   },
   "outputs": [],
   "source": [
    "!pip install netaddr"
   ]
  },
  {
   "cell_type": "markdown",
   "metadata": {},
   "source": [
    "### pandas"
   ]
  },
  {
   "cell_type": "markdown",
   "metadata": {},
   "source": [
    "The next library you will need is `pandas`, which you can add to your environment via `conda install`.\n",
    "\n",
    "* http://pandas.pydata.org/\n",
    "\n",
    "This library provides a data analysis library. We will not be using any of its capabilities, but it is ubiquitous in the Python scientific computing world (which Jupyter was created to support) and therefore there are nice built-in display extensions in Jupyter Notebook which render data frames as HTML tables."
   ]
  },
  {
   "cell_type": "code",
   "execution_count": null,
   "metadata": {
    "collapsed": false
   },
   "outputs": [],
   "source": [
    "!conda install -y pandas"
   ]
  },
  {
   "cell_type": "markdown",
   "metadata": {},
   "source": [
    "### pysftp"
   ]
  },
  {
   "cell_type": "markdown",
   "metadata": {},
   "source": [
    "The next library you will need is `pysftp`, which you can add to your environment via `pip install pysftp`.\n",
    "\n",
    "* https://pypi.python.org/pypi/pysftp\n",
    "\n",
    "This library is a wrapper around the `paramiko` library which simplifies uploading files via SFTP. We are using it in order to transfer files to our EC2 instances."
   ]
  },
  {
   "cell_type": "code",
   "execution_count": null,
   "metadata": {
    "collapsed": false
   },
   "outputs": [],
   "source": [
    "!pip install pysftp"
   ]
  },
  {
   "cell_type": "markdown",
   "metadata": {},
   "source": [
    "### requests"
   ]
  },
  {
   "cell_type": "markdown",
   "metadata": {},
   "source": [
    "We also need a way to issue requests that works in both Python 2 and in Python 3.\n",
    "\n",
    "* http://docs.python-requests.org/en/master/\n",
    "\n",
    "This library gives us the ability to issue simple requests without thinking all that hard about how to write the code, and the code looks the same in both Python 2 and Python 3."
   ]
  },
  {
   "cell_type": "code",
   "execution_count": null,
   "metadata": {
    "collapsed": false
   },
   "outputs": [],
   "source": [
    "!conda install -y requests"
   ]
  },
  {
   "cell_type": "markdown",
   "metadata": {},
   "source": [
    "### xmltodict"
   ]
  },
  {
   "cell_type": "markdown",
   "metadata": {},
   "source": [
    "The next library you will need is `xmltodict`, which you can add to your environment via `pip install`.\n",
    "\n",
    "* https://github.com/martinblech/xmltodict\n",
    "\n",
    "This library provides the ability to create XML documents via Python dictionaries, which are required in various configuration phases for the applications we will install throughout the tutorial series."
   ]
  },
  {
   "cell_type": "code",
   "execution_count": null,
   "metadata": {
    "collapsed": false
   },
   "outputs": [],
   "source": [
    "!pip install xmltodict"
   ]
  },
  {
   "cell_type": "markdown",
   "metadata": {},
   "source": [
    "## Convert Notebook to Script"
   ]
  },
  {
   "cell_type": "markdown",
   "metadata": {},
   "source": [
    "The following cell will use `jupyter nbconvert` to build an `aws_base.py` which will be used in future notebooks in this series."
   ]
  },
  {
   "cell_type": "code",
   "execution_count": null,
   "metadata": {
    "collapsed": false
   },
   "outputs": [],
   "source": [
    "%%javascript\n",
    "var script_file = 'aws_base.py';\n",
    "\n",
    "var notebook_name = window.document.getElementById('notebook_name').innerHTML;\n",
    "var nbconvert_command = 'jupyter nbconvert --stdout --to script ' + notebook_name;\n",
    "\n",
    "var grep_command = \"grep -v '^#' | grep -v -F get_ipython | sed '/^$/N;/^\\\\n$/D'\";\n",
    "var command = '!' + nbconvert_command + ' | ' + grep_command + ' > ' + script_file;\n",
    "\n",
    "if (Jupyter.notebook.kernel) {\n",
    "    Jupyter.notebook.kernel.execute(command);\n",
    "}"
   ]
  }
 ],
 "metadata": {
  "anaconda-cloud": {},
  "kernelspec": {
   "display_name": "Python [default]",
   "language": "python",
   "name": "python3"
  },
  "language_info": {
   "codemirror_mode": {
    "name": "ipython",
    "version": 3
   },
   "file_extension": ".py",
   "mimetype": "text/x-python",
   "name": "python",
   "nbconvert_exporter": "python",
   "pygments_lexer": "ipython3",
   "version": "3.5.2"
  }
 },
 "nbformat": 4,
 "nbformat_minor": 0
}
